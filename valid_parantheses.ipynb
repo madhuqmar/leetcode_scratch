{
 "cells": [
  {
   "cell_type": "code",
   "execution_count": 1,
   "id": "b341d771-e331-4ff4-98db-d5f997d1da34",
   "metadata": {},
   "outputs": [],
   "source": [
    "brckt_1 = ['(', ')']\n",
    "brckt_2 = ['[', ']']\n",
    "brckt_3 = ['{', '}']"
   ]
  },
  {
   "cell_type": "code",
   "execution_count": 31,
   "id": "8a70ff6e-a5d3-4157-9d69-86fb778a9cff",
   "metadata": {},
   "outputs": [],
   "source": [
    "brckt_map = {')': '(', ']': '[', '}': '{', }"
   ]
  },
  {
   "cell_type": "code",
   "execution_count": 61,
   "id": "8b87aa24-bbe6-4586-9d21-4c70270e08a1",
   "metadata": {},
   "outputs": [],
   "source": [
    "s = \"([)]\""
   ]
  },
  {
   "cell_type": "code",
   "execution_count": 66,
   "id": "371cd4c5-8109-4ef9-9b25-8d145f5fdb70",
   "metadata": {},
   "outputs": [],
   "source": [
    "num = brckt_map[']']"
   ]
  },
  {
   "cell_type": "code",
   "execution_count": 63,
   "id": "9d1410c6-40c8-4870-a377-0f5055541ff6",
   "metadata": {},
   "outputs": [
    {
     "data": {
      "text/plain": [
       "'['"
      ]
     },
     "execution_count": 63,
     "metadata": {},
     "output_type": "execute_result"
    }
   ],
   "source": [
    "num"
   ]
  },
  {
   "cell_type": "code",
   "execution_count": 67,
   "id": "57b4ad17-285e-4e89-83b4-704d2a1984d7",
   "metadata": {},
   "outputs": [],
   "source": [
    "perfect_s = []\n",
    "for i in range(0, len(s)-1, 2):\n",
    "    if s[i+1] in brckt_map:\n",
    "        if brckt_map[s[i+1]] == s[i]:\n",
    "            perfect_s.append(s[i])\n",
    "            perfect_s.append(s[i+1])\n",
    "        else:\n",
    "            pass\n",
    "    else:\n",
    "        pass"
   ]
  },
  {
   "cell_type": "code",
   "execution_count": 68,
   "id": "28cacfae-c9ab-4ca2-aa43-8bd2dd9c855f",
   "metadata": {},
   "outputs": [
    {
     "data": {
      "text/plain": [
       "False"
      ]
     },
     "execution_count": 68,
     "metadata": {},
     "output_type": "execute_result"
    }
   ],
   "source": [
    "''.join(perfect_s) == s"
   ]
  },
  {
   "cell_type": "markdown",
   "id": "b3c0251c-47dd-4b7b-af93-8c82727e7906",
   "metadata": {},
   "source": [
    "# Third Attempt"
   ]
  },
  {
   "cell_type": "code",
   "execution_count": 120,
   "id": "c63f327d-bf1f-44a7-b300-015f26eccac0",
   "metadata": {},
   "outputs": [],
   "source": [
    "s = \"{[]}\""
   ]
  },
  {
   "cell_type": "code",
   "execution_count": 121,
   "id": "2024069e-6430-49f5-888a-c4d3812d8db4",
   "metadata": {},
   "outputs": [],
   "source": [
    "s = list(s)"
   ]
  },
  {
   "cell_type": "code",
   "execution_count": 122,
   "id": "1cf5bd0c-ab5c-461d-9e08-81170e0cb5d8",
   "metadata": {},
   "outputs": [
    {
     "data": {
      "text/plain": [
       "['{', '[', ']', '}']"
      ]
     },
     "execution_count": 122,
     "metadata": {},
     "output_type": "execute_result"
    }
   ],
   "source": [
    "s"
   ]
  },
  {
   "cell_type": "code",
   "execution_count": 123,
   "id": "dc7ffdb7-7e5e-4ae2-a743-2c6de73eea14",
   "metadata": {},
   "outputs": [],
   "source": [
    "matches = []\n",
    "for i in range(0, len(s)):\n",
    "    if s[i] == '{':\n",
    "        if '}' in s:\n",
    "            match_ind = s.index('}')\n",
    "            if match_ind > i:\n",
    "                matches.append(s[i])\n",
    "                matches.append(s[match_ind])\n",
    "    if s[i] == '[':\n",
    "        if ']' in s:\n",
    "            match_ind = s.index(']')\n",
    "            if match_ind > i:\n",
    "                matches.append(s[i])\n",
    "                matches.append(s[match_ind])\n",
    "    if s[i] == '(':\n",
    "        if ')' in s:\n",
    "            match_ind = s.index(')')\n",
    "            if match_ind > i:\n",
    "                matches.append(s[i])\n",
    "                matches.append(s[match_ind])"
   ]
  },
  {
   "cell_type": "code",
   "execution_count": 124,
   "id": "303b891e-2bd0-4b8f-b567-bc059c5340fb",
   "metadata": {},
   "outputs": [
    {
     "data": {
      "text/plain": [
       "4"
      ]
     },
     "execution_count": 124,
     "metadata": {},
     "output_type": "execute_result"
    }
   ],
   "source": [
    "len(s)"
   ]
  },
  {
   "cell_type": "code",
   "execution_count": 125,
   "id": "7c8e479a-f460-4c79-b5f6-f440c17a9e4f",
   "metadata": {},
   "outputs": [
    {
     "data": {
      "text/plain": [
       "['{', '[', ']', '}']"
      ]
     },
     "execution_count": 125,
     "metadata": {},
     "output_type": "execute_result"
    }
   ],
   "source": [
    "s"
   ]
  },
  {
   "cell_type": "code",
   "execution_count": 126,
   "id": "e87a2f18-1bfa-4f92-a703-fd08fa72d91c",
   "metadata": {},
   "outputs": [
    {
     "data": {
      "text/plain": [
       "['{', '}', '[', ']']"
      ]
     },
     "execution_count": 126,
     "metadata": {},
     "output_type": "execute_result"
    }
   ],
   "source": [
    "matches"
   ]
  },
  {
   "cell_type": "code",
   "execution_count": 127,
   "id": "0c689e3b-3229-470c-bfd7-6b6d70b6e7f9",
   "metadata": {},
   "outputs": [
    {
     "name": "stdout",
     "output_type": "stream",
     "text": [
      "True\n"
     ]
    }
   ],
   "source": [
    "if len(matches) == len(s):\n",
    "    print('True')\n",
    "else:\n",
    "    print('False')"
   ]
  },
  {
   "cell_type": "markdown",
   "id": "e7a30d77-2fc7-4e3e-9573-fa157f7a80fb",
   "metadata": {},
   "source": [
    "# Fourth Attempt"
   ]
  },
  {
   "cell_type": "code",
   "execution_count": 1,
   "id": "ee5ab906-7c95-4ef0-a35d-23b5643f33e4",
   "metadata": {},
   "outputs": [],
   "source": [
    "s = \"([)]\""
   ]
  },
  {
   "cell_type": "code",
   "execution_count": 2,
   "id": "899f77d3-8e07-4a39-9079-bad34bd2939c",
   "metadata": {},
   "outputs": [
    {
     "data": {
      "text/plain": [
       "4"
      ]
     },
     "execution_count": 2,
     "metadata": {},
     "output_type": "execute_result"
    }
   ],
   "source": [
    "len(s)"
   ]
  },
  {
   "cell_type": "code",
   "execution_count": 9,
   "id": "8706e650-dc3a-403d-8e00-b5cf03047e42",
   "metadata": {},
   "outputs": [],
   "source": [
    "mid = int(len(s)/2)"
   ]
  },
  {
   "cell_type": "code",
   "execution_count": 10,
   "id": "55fe9ae9-0d4b-4204-9b81-c05e99035975",
   "metadata": {},
   "outputs": [],
   "source": [
    "sl = list(s)"
   ]
  },
  {
   "cell_type": "code",
   "execution_count": 11,
   "id": "968d039e-5df0-4ca6-ad30-9286008b1b40",
   "metadata": {},
   "outputs": [
    {
     "data": {
      "text/plain": [
       "2"
      ]
     },
     "execution_count": 11,
     "metadata": {},
     "output_type": "execute_result"
    }
   ],
   "source": [
    "mid"
   ]
  },
  {
   "cell_type": "code",
   "execution_count": 12,
   "id": "2d4962f7-fce6-4baf-9671-3ad37b762170",
   "metadata": {},
   "outputs": [
    {
     "data": {
      "text/plain": [
       "')'"
      ]
     },
     "execution_count": 12,
     "metadata": {},
     "output_type": "execute_result"
    }
   ],
   "source": [
    "sl[mid]"
   ]
  },
  {
   "cell_type": "code",
   "execution_count": 18,
   "id": "c08abdf0-214c-4442-a35b-d7108ace1ad6",
   "metadata": {},
   "outputs": [],
   "source": [
    "leftSymbols = []\n",
    "    # Loop for each character of the string\n",
    "for c in s:\n",
    "    # If left symbol is encountered\n",
    "    if c in ['(', '{', '[']:\n",
    "        leftSymbols.append(c)\n",
    "        # If right symbol is encountered\n",
    "    elif c == ')' and len(leftSymbols) != 0 and leftSymbols[-1] == '(':\n",
    "        leftSymbols.pop()\n",
    "    elif c == '}' and len(leftSymbols) != 0 and leftSymbols[-1] == '{':\n",
    "        leftSymbols.pop()\n",
    "    elif c == ']' and len(leftSymbols) != 0 and leftSymbols[-1] == '[':\n",
    "        leftSymbols.pop()\n",
    "        # If none of the valid symbols is encountered"
   ]
  },
  {
   "cell_type": "code",
   "execution_count": 19,
   "id": "82701518-ca96-4bb1-ac26-22e427359810",
   "metadata": {},
   "outputs": [
    {
     "data": {
      "text/plain": [
       "['(']"
      ]
     },
     "execution_count": 19,
     "metadata": {},
     "output_type": "execute_result"
    }
   ],
   "source": [
    "leftSymbols"
   ]
  },
  {
   "cell_type": "code",
   "execution_count": null,
   "id": "beaf5e11-dd6f-452d-8ca2-8ca42211a960",
   "metadata": {},
   "outputs": [],
   "source": []
  }
 ],
 "metadata": {
  "kernelspec": {
   "display_name": "Python 3 (ipykernel)",
   "language": "python",
   "name": "python3"
  },
  "language_info": {
   "codemirror_mode": {
    "name": "ipython",
    "version": 3
   },
   "file_extension": ".py",
   "mimetype": "text/x-python",
   "name": "python",
   "nbconvert_exporter": "python",
   "pygments_lexer": "ipython3",
   "version": "3.8.8"
  }
 },
 "nbformat": 4,
 "nbformat_minor": 5
}
