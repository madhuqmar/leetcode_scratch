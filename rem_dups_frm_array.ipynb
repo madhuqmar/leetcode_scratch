{
 "cells": [
  {
   "cell_type": "markdown",
   "id": "b98f5dd4-2d20-4dbf-a33f-a3a6d19d77f9",
   "metadata": {},
   "source": [
    "# First Attempt"
   ]
  },
  {
   "cell_type": "code",
   "execution_count": 6,
   "id": "e95fd1a0-c71f-48cf-9ce1-a55c0d0afb67",
   "metadata": {},
   "outputs": [
    {
     "name": "stdout",
     "output_type": "stream",
     "text": [
      "7 [0, 1, 1, 2, 2, 3, 4]\n"
     ]
    }
   ],
   "source": [
    "nums_set = set()\n",
    "for i in nums:\n",
    "    if i not in nums_set:\n",
    "        nums_set.add(i)\n",
    "    else:\n",
    "        nums.remove(i)\n",
    "        \n",
    "print( len(nums), nums)"
   ]
  },
  {
   "cell_type": "markdown",
   "id": "adf263c4-ca35-4b25-83f1-6857ef329948",
   "metadata": {},
   "source": [
    "# Second Attempt"
   ]
  },
  {
   "cell_type": "code",
   "execution_count": 48,
   "id": "291046a7-2f13-4eec-b42c-01425241d495",
   "metadata": {},
   "outputs": [],
   "source": [
    "nums = [0,0,1,1,1,2,2,3,3,4]\n",
    "\n",
    "j = 1\n",
    "for i in range(1, len(nums)):\n",
    "    if nums[i] != nums[i-1]:\n",
    "        nums[j] = nums[i]\n",
    "        j += 1\n",
    "        \n",
    "for to_del in range(i, j-1, -1):\n",
    "    del nums[to_del]"
   ]
  },
  {
   "cell_type": "code",
   "execution_count": 49,
   "id": "4e24e29f-d2dc-44e6-b6a6-a42b077a92ed",
   "metadata": {},
   "outputs": [
    {
     "data": {
      "text/plain": [
       "[0, 1, 2, 3, 4]"
      ]
     },
     "execution_count": 49,
     "metadata": {},
     "output_type": "execute_result"
    }
   ],
   "source": [
    "nums"
   ]
  },
  {
   "cell_type": "code",
   "execution_count": 50,
   "id": "cf07384b-05a8-4539-a3bb-baaa4cfb6826",
   "metadata": {},
   "outputs": [
    {
     "data": {
      "text/plain": [
       "5"
      ]
     },
     "execution_count": 50,
     "metadata": {},
     "output_type": "execute_result"
    }
   ],
   "source": [
    "j"
   ]
  },
  {
   "cell_type": "code",
   "execution_count": null,
   "id": "fb1efc25-ae71-4523-b0ed-82db486c8a82",
   "metadata": {},
   "outputs": [],
   "source": []
  }
 ],
 "metadata": {
  "kernelspec": {
   "display_name": "Python 3 (ipykernel)",
   "language": "python",
   "name": "python3"
  },
  "language_info": {
   "codemirror_mode": {
    "name": "ipython",
    "version": 3
   },
   "file_extension": ".py",
   "mimetype": "text/x-python",
   "name": "python",
   "nbconvert_exporter": "python",
   "pygments_lexer": "ipython3",
   "version": "3.8.8"
  }
 },
 "nbformat": 4,
 "nbformat_minor": 5
}
