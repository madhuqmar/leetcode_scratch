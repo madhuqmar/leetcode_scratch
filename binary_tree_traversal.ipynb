{
 "cells": [
  {
   "cell_type": "code",
   "execution_count": 1,
   "id": "45a06a48-75ae-4766-8711-8f17157b3ad2",
   "metadata": {},
   "outputs": [],
   "source": [
    "result = []"
   ]
  },
  {
   "cell_type": "code",
   "execution_count": null,
   "id": "32f7cfc5-70d3-4d86-be4c-6c11d7602168",
   "metadata": {},
   "outputs": [],
   "source": [
    "class Solution(object):\n",
    "    def inorderTraversal(self, root):\n",
    "        res, stack = [], []\n",
    "       \n",
    "        while(root != None or stack != None):\n",
    "            \n",
    "            while(root!=None):\n",
    "                stack.append(root)\n",
    "                root = root.left\n",
    "            \n",
    "            if not stack:\n",
    "                return res\n",
    "            \n",
    "            node = stack.pop()\n",
    "            res.append(node.val)\n",
    "            root = node.right     \n",
    "        \n",
    "        return res"
   ]
  }
 ],
 "metadata": {
  "kernelspec": {
   "display_name": "Python 3 (ipykernel)",
   "language": "python",
   "name": "python3"
  },
  "language_info": {
   "codemirror_mode": {
    "name": "ipython",
    "version": 3
   },
   "file_extension": ".py",
   "mimetype": "text/x-python",
   "name": "python",
   "nbconvert_exporter": "python",
   "pygments_lexer": "ipython3",
   "version": "3.8.8"
  }
 },
 "nbformat": 4,
 "nbformat_minor": 5
}
