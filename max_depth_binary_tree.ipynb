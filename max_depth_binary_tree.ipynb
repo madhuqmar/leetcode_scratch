{
 "cells": [
  {
   "cell_type": "code",
   "execution_count": 1,
   "id": "173c2cb6-d867-4a31-b974-99b5e47b5493",
   "metadata": {},
   "outputs": [],
   "source": [
    "class TreeNode(object):\n",
    "    def __init__(self, val=0, left=None, right=None):\n",
    "        self.val = val\n",
    "        self.left = left\n",
    "        self.right = right"
   ]
  },
  {
   "cell_type": "code",
   "execution_count": null,
   "id": "779103b9-ae29-4b1d-a477-016eeb6bce9d",
   "metadata": {},
   "outputs": [],
   "source": [
    "class Solution(object):\n",
    "    def maxDepth(self, root):\n",
    "        left_sub_tree = 0\n",
    "        right_sub_tree = 0\n",
    "        \n",
    "        if root is None: return 0\n",
    "       \n",
    "        while root.left is not None:\n",
    "            left_sub_tree += 1\n",
    "            root = root.left\n",
    "        \n",
    "        while root.right is not None:\n",
    "            right_sub_tree += 1\n",
    "            root = root.right\n",
    "            \n",
    "        return max(left_sub_tree, right_sub_tree)"
   ]
  }
 ],
 "metadata": {
  "kernelspec": {
   "display_name": "Python 3 (ipykernel)",
   "language": "python",
   "name": "python3"
  },
  "language_info": {
   "codemirror_mode": {
    "name": "ipython",
    "version": 3
   },
   "file_extension": ".py",
   "mimetype": "text/x-python",
   "name": "python",
   "nbconvert_exporter": "python",
   "pygments_lexer": "ipython3",
   "version": "3.8.8"
  }
 },
 "nbformat": 4,
 "nbformat_minor": 5
}
