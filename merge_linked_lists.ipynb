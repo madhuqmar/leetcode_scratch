{
 "cells": [
  {
   "cell_type": "code",
   "execution_count": 172,
   "id": "ddca33fd-0689-490a-9f1b-4dc19bbee10d",
   "metadata": {},
   "outputs": [],
   "source": [
    "class Node(object):\n",
    "    def __init__(self, val, next=None):\n",
    "        self.val = val\n",
    "        self.next = next"
   ]
  },
  {
   "cell_type": "code",
   "execution_count": 173,
   "id": "328df110-e176-4020-9171-119c2f7ded66",
   "metadata": {},
   "outputs": [],
   "source": [
    "class LinkedList(object):\n",
    "    def __init__(self, sequence):\n",
    "        self.head = Node(sequence[0])\n",
    "        current = self.head\n",
    "        for item in sequence[1:]:\n",
    "            current.next = Node(item)\n",
    "            current = current.next"
   ]
  },
  {
   "cell_type": "code",
   "execution_count": 174,
   "id": "56982934-612b-4022-bbff-5e2de6eca28d",
   "metadata": {},
   "outputs": [],
   "source": [
    "list1 = [1,2,4]\n",
    "list2 = [1,3,4]"
   ]
  },
  {
   "cell_type": "code",
   "execution_count": 175,
   "id": "d1e5fc70-0189-441a-a2a2-d9f4b6ec7549",
   "metadata": {},
   "outputs": [],
   "source": [
    "ll1 = LinkedList(list1)\n",
    "ll2 = LinkedList(list2)"
   ]
  },
  {
   "cell_type": "code",
   "execution_count": 135,
   "id": "e7b65a80-fbcb-4033-a50c-9ab1c764f88c",
   "metadata": {},
   "outputs": [],
   "source": [
    "curr = Node(0)"
   ]
  },
  {
   "cell_type": "code",
   "execution_count": 136,
   "id": "9ee34337-7d35-4e9d-ae90-605da7292867",
   "metadata": {},
   "outputs": [
    {
     "data": {
      "text/plain": [
       "0"
      ]
     },
     "execution_count": 136,
     "metadata": {},
     "output_type": "execute_result"
    }
   ],
   "source": [
    "curr.val"
   ]
  },
  {
   "cell_type": "code",
   "execution_count": 137,
   "id": "9cd02fde-4f92-4703-b2ed-169fe51322ed",
   "metadata": {},
   "outputs": [],
   "source": [
    "curr.next = ll1"
   ]
  },
  {
   "cell_type": "code",
   "execution_count": 142,
   "id": "40577c0d-e0ce-4672-88c3-1be532f3e40f",
   "metadata": {},
   "outputs": [
    {
     "data": {
      "text/plain": [
       "0"
      ]
     },
     "execution_count": 142,
     "metadata": {},
     "output_type": "execute_result"
    }
   ],
   "source": [
    "curr.val"
   ]
  },
  {
   "cell_type": "code",
   "execution_count": 152,
   "id": "d8b496de-9cca-4158-94e7-9d01cb64e310",
   "metadata": {},
   "outputs": [
    {
     "data": {
      "text/plain": [
       "4"
      ]
     },
     "execution_count": 152,
     "metadata": {},
     "output_type": "execute_result"
    }
   ],
   "source": [
    "curr.next.head.next.next.val"
   ]
  },
  {
   "cell_type": "code",
   "execution_count": null,
   "id": "d8c8ee52-0608-480d-8aa0-1ea7f3c63c57",
   "metadata": {},
   "outputs": [],
   "source": []
  },
  {
   "cell_type": "code",
   "execution_count": 154,
   "id": "fc454452-a38c-42f5-8e5d-b6f341f3d7e5",
   "metadata": {},
   "outputs": [],
   "source": [
    "ll1 = ll1.next"
   ]
  },
  {
   "cell_type": "code",
   "execution_count": 155,
   "id": "ec0e488b-7a0d-4ebb-86d9-3cc9ac8f39e5",
   "metadata": {},
   "outputs": [
    {
     "data": {
      "text/plain": [
       "4"
      ]
     },
     "execution_count": 155,
     "metadata": {},
     "output_type": "execute_result"
    }
   ],
   "source": [
    "ll1.val"
   ]
  },
  {
   "cell_type": "code",
   "execution_count": 156,
   "id": "1d714f2c-4ab3-4dd8-a725-dbca3882410a",
   "metadata": {},
   "outputs": [],
   "source": [
    "curr.next = ll1"
   ]
  },
  {
   "cell_type": "code",
   "execution_count": 157,
   "id": "11251dc2-538d-48ab-9e45-04acf296a096",
   "metadata": {},
   "outputs": [
    {
     "data": {
      "text/plain": [
       "0"
      ]
     },
     "execution_count": 157,
     "metadata": {},
     "output_type": "execute_result"
    }
   ],
   "source": [
    "curr.val"
   ]
  },
  {
   "cell_type": "code",
   "execution_count": 160,
   "id": "0fec68d9-3ca9-43db-8c56-d13ff6be74b3",
   "metadata": {},
   "outputs": [
    {
     "data": {
      "text/plain": [
       "4"
      ]
     },
     "execution_count": 160,
     "metadata": {},
     "output_type": "execute_result"
    }
   ],
   "source": [
    "curr.next.val"
   ]
  },
  {
   "cell_type": "code",
   "execution_count": 167,
   "id": "ec6d2cce-9c8a-42d1-98ac-5d81c49c6303",
   "metadata": {},
   "outputs": [
    {
     "data": {
      "text/plain": [
       "4"
      ]
     },
     "execution_count": 167,
     "metadata": {},
     "output_type": "execute_result"
    }
   ],
   "source": [
    "ll1.val"
   ]
  },
  {
   "cell_type": "code",
   "execution_count": 177,
   "id": "6f91cb76-1514-44b7-a2f2-c311df3f5261",
   "metadata": {},
   "outputs": [
    {
     "ename": "AttributeError",
     "evalue": "'LinkedList' object has no attribute 'val'",
     "output_type": "error",
     "traceback": [
      "\u001b[0;31m---------------------------------------------------------------------------\u001b[0m",
      "\u001b[0;31mAttributeError\u001b[0m                            Traceback (most recent call last)",
      "Input \u001b[0;32mIn [177]\u001b[0m, in \u001b[0;36m<cell line: 1>\u001b[0;34m()\u001b[0m\n\u001b[0;32m----> 1\u001b[0m \u001b[43mll2\u001b[49m\u001b[38;5;241;43m.\u001b[39;49m\u001b[43mval\u001b[49m\n",
      "\u001b[0;31mAttributeError\u001b[0m: 'LinkedList' object has no attribute 'val'"
     ]
    }
   ],
   "source": [
    "ll2.val"
   ]
  },
  {
   "cell_type": "code",
   "execution_count": null,
   "id": "60bd58f4-e451-4a12-9bf6-008d90adba4b",
   "metadata": {},
   "outputs": [],
   "source": []
  },
  {
   "cell_type": "code",
   "execution_count": null,
   "id": "18e6c31a-0e26-4081-8ce3-a493d0c51974",
   "metadata": {},
   "outputs": [],
   "source": []
  },
  {
   "cell_type": "code",
   "execution_count": 101,
   "id": "4cf7ebf5-6662-4124-ae9d-d57dcb90396f",
   "metadata": {},
   "outputs": [],
   "source": [
    "def mergeTwoLists(l1, l2):\n",
    "    newList = ListNode(0)\n",
    "    cur = newList \n",
    "    while l1 and l2:\n",
    "        if l1.val < l2.val:\n",
    "            cur.next = l1\n",
    "            l1 = l1.next\n",
    "        else:\n",
    "            cur.next = l2\n",
    "            l2 = l2.next\n",
    "        cur = cur.next\n",
    "    cur.next = l1 or l2 # add non-empty list\n",
    "    return newList.next"
   ]
  },
  {
   "cell_type": "code",
   "execution_count": null,
   "id": "d0fc4818-736a-42a4-9848-93bfb7f08ca6",
   "metadata": {},
   "outputs": [],
   "source": []
  }
 ],
 "metadata": {
  "kernelspec": {
   "display_name": "Python 3 (ipykernel)",
   "language": "python",
   "name": "python3"
  },
  "language_info": {
   "codemirror_mode": {
    "name": "ipython",
    "version": 3
   },
   "file_extension": ".py",
   "mimetype": "text/x-python",
   "name": "python",
   "nbconvert_exporter": "python",
   "pygments_lexer": "ipython3",
   "version": "3.8.8"
  }
 },
 "nbformat": 4,
 "nbformat_minor": 5
}
