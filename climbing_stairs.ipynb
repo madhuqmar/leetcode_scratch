{
 "cells": [
  {
   "cell_type": "code",
   "execution_count": 1,
   "id": "e545d51a-af30-47de-9a00-77c00f9d514c",
   "metadata": {},
   "outputs": [],
   "source": [
    "n = 3"
   ]
  },
  {
   "cell_type": "code",
   "execution_count": 8,
   "id": "e6c6d249-9ce9-4a52-842d-cd1053ef8ec4",
   "metadata": {},
   "outputs": [],
   "source": [
    "import math"
   ]
  },
  {
   "cell_type": "code",
   "execution_count": 4,
   "id": "39eecd0c-4482-45e8-821e-4445ce6389ce",
   "metadata": {},
   "outputs": [
    {
     "name": "stdout",
     "output_type": "stream",
     "text": [
      "0\n",
      "1\n",
      "2\n"
     ]
    }
   ],
   "source": [
    "for i in range(0, n):\n",
    "    print(i)"
   ]
  },
  {
   "cell_type": "code",
   "execution_count": 5,
   "id": "9ccfbe0f-dd5c-4c42-ac89-1dd2bf179513",
   "metadata": {},
   "outputs": [
    {
     "data": {
      "text/plain": [
       "3.0"
      ]
     },
     "execution_count": 5,
     "metadata": {},
     "output_type": "execute_result"
    }
   ],
   "source": [
    "3 / 1"
   ]
  },
  {
   "cell_type": "code",
   "execution_count": 9,
   "id": "83cdfdc2-2dc0-4abe-b4ff-6c3a72ef404b",
   "metadata": {},
   "outputs": [
    {
     "data": {
      "text/plain": [
       "1"
      ]
     },
     "execution_count": 9,
     "metadata": {},
     "output_type": "execute_result"
    }
   ],
   "source": [
    "math.floor (3 / 2)"
   ]
  },
  {
   "cell_type": "code",
   "execution_count": 14,
   "id": "66b032c7-5087-4273-85d9-af633c57d845",
   "metadata": {},
   "outputs": [
    {
     "data": {
      "text/plain": [
       "8.0"
      ]
     },
     "execution_count": 14,
     "metadata": {},
     "output_type": "execute_result"
    }
   ],
   "source": [
    "16/2"
   ]
  },
  {
   "cell_type": "code",
   "execution_count": 12,
   "id": "d9cfa1ee-9e45-4b37-85c2-b311f2c206b2",
   "metadata": {},
   "outputs": [
    {
     "data": {
      "text/plain": [
       "2"
      ]
     },
     "execution_count": 12,
     "metadata": {},
     "output_type": "execute_result"
    }
   ],
   "source": [
    "import itertools\n",
    "len(list(itertools.permutations([1, 2])))"
   ]
  },
  {
   "cell_type": "code",
   "execution_count": null,
   "id": "3d449569-ba67-4d1e-862a-58356c7a56f2",
   "metadata": {},
   "outputs": [],
   "source": [
    "ways = 1 #taking single steps is always going to be an option n*1\n",
    "\n",
    "all_2 = math.floor(n/2)\n"
   ]
  }
 ],
 "metadata": {
  "kernelspec": {
   "display_name": "Python 3 (ipykernel)",
   "language": "python",
   "name": "python3"
  },
  "language_info": {
   "codemirror_mode": {
    "name": "ipython",
    "version": 3
   },
   "file_extension": ".py",
   "mimetype": "text/x-python",
   "name": "python",
   "nbconvert_exporter": "python",
   "pygments_lexer": "ipython3",
   "version": "3.8.8"
  }
 },
 "nbformat": 4,
 "nbformat_minor": 5
}
