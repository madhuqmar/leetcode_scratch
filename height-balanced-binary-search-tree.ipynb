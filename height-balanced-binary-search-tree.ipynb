{
 "cells": [
  {
   "cell_type": "code",
   "execution_count": 1,
   "id": "8e2ff23a-b966-474e-bfba-97b7897ae478",
   "metadata": {},
   "outputs": [],
   "source": [
    "class TreeNode(object):\n",
    "    def __init__(self, val=0, left=None, right=None):\n",
    "        self.val = val\n",
    "        self.left = left\n",
    "        self.right = right"
   ]
  },
  {
   "cell_type": "code",
   "execution_count": 155,
   "id": "5d931c73-6be0-4f95-b035-108cf6766b5d",
   "metadata": {},
   "outputs": [],
   "source": [
    "def sortedArrayToBST(nums):\n",
    "    n = len(nums)\n",
    "    if n == 0: return None\n",
    "\n",
    "    middle = int((len(nums)/2))\n",
    "    \n",
    "    node = TreeNode(nums[middle])\n",
    "    \n",
    "    node.left = sortedArrayToBST(nums[:middle])\n",
    "    node.right = sortedArrayToBST(nums[middle+1:])\n",
    "\n",
    "    return node"
   ]
  },
  {
   "cell_type": "code",
   "execution_count": 156,
   "id": "9ed94c79-0ea0-4dce-be2a-7f6ad39ca074",
   "metadata": {},
   "outputs": [],
   "source": [
    "nums = [-10,-3,0,5,9]"
   ]
  },
  {
   "cell_type": "code",
   "execution_count": 157,
   "id": "eb00b8f3-919b-44fb-9b8c-e56d3fb8f91b",
   "metadata": {},
   "outputs": [],
   "source": [
    "n = sortedArrayToBST(nums)"
   ]
  },
  {
   "cell_type": "code",
   "execution_count": 162,
   "id": "a69ac05b-f30a-4391-aa7c-f4764f594389",
   "metadata": {},
   "outputs": [
    {
     "data": {
      "text/plain": [
       "5"
      ]
     },
     "execution_count": 162,
     "metadata": {},
     "output_type": "execute_result"
    }
   ],
   "source": [
    "n.right.left.val"
   ]
  },
  {
   "cell_type": "code",
   "execution_count": 149,
   "id": "c26257d2-8913-4436-be3d-c3ec52b94c51",
   "metadata": {},
   "outputs": [
    {
     "data": {
      "text/plain": [
       "[5, 9]"
      ]
     },
     "execution_count": 149,
     "metadata": {},
     "output_type": "execute_result"
    }
   ],
   "source": [
    "nums[3:5]"
   ]
  },
  {
   "cell_type": "code",
   "execution_count": 85,
   "id": "3553aee0-aac3-4acf-89a0-6bb27e7751ec",
   "metadata": {},
   "outputs": [
    {
     "data": {
      "text/plain": [
       "0"
      ]
     },
     "execution_count": 85,
     "metadata": {},
     "output_type": "execute_result"
    }
   ],
   "source": [
    "int(1/2)"
   ]
  },
  {
   "cell_type": "code",
   "execution_count": null,
   "id": "d8f94ce5-3bc3-4693-9b0a-c4ac33116347",
   "metadata": {},
   "outputs": [
    {
     "data": {
      "text/plain": [
       "0"
      ]
     },
     "execution_count": 135,
     "metadata": {},
     "output_type": "execute_result"
    }
   ],
   "source": []
  }
 ],
 "metadata": {
  "kernelspec": {
   "display_name": "Python 3 (ipykernel)",
   "language": "python",
   "name": "python3"
  },
  "language_info": {
   "codemirror_mode": {
    "name": "ipython",
    "version": 3
   },
   "file_extension": ".py",
   "mimetype": "text/x-python",
   "name": "python",
   "nbconvert_exporter": "python",
   "pygments_lexer": "ipython3",
   "version": "3.8.8"
  }
 },
 "nbformat": 4,
 "nbformat_minor": 5
}
