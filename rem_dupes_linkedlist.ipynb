{
 "cells": [
  {
   "cell_type": "code",
   "execution_count": 1,
   "id": "d62a1a10-9890-47e5-b387-a21f23ca6a49",
   "metadata": {},
   "outputs": [],
   "source": [
    "class Node(object):\n",
    "    def __init__(self, val, next=None):\n",
    "        self.val = val\n",
    "        self.next = next\n",
    "        \n",
    "class LinkedList(object):\n",
    "    def __init__(self, sequence):\n",
    "        self.head = Node(sequence[0])\n",
    "        current = self.head\n",
    "        for item in sequence[1:]:\n",
    "            current.next = Node(item)\n",
    "            current = current.next"
   ]
  },
  {
   "cell_type": "code",
   "execution_count": 98,
   "id": "fa1748dc-67c6-4365-ac4d-c546b6101b63",
   "metadata": {},
   "outputs": [],
   "source": [
    "head = [1,1,2]\n",
    "ll = LinkedList(head)"
   ]
  },
  {
   "cell_type": "code",
   "execution_count": 99,
   "id": "3b242d34-986d-422c-b827-275e130c7982",
   "metadata": {},
   "outputs": [
    {
     "data": {
      "text/plain": [
       "1"
      ]
     },
     "execution_count": 99,
     "metadata": {},
     "output_type": "execute_result"
    }
   ],
   "source": [
    "ll.head.val"
   ]
  },
  {
   "cell_type": "code",
   "execution_count": 100,
   "id": "f1b72582-847c-4e94-b050-b06e868ca948",
   "metadata": {},
   "outputs": [],
   "source": [
    "def removeDups(self):\n",
    "    current = self.head\n",
    "    while current: \n",
    "        while current.next and current.val == current.next.val: \n",
    "            current.next = current.next.next \n",
    "        current = current.next"
   ]
  },
  {
   "cell_type": "code",
   "execution_count": 101,
   "id": "16e568ca-c6ec-4551-b93c-c901f0bb9843",
   "metadata": {},
   "outputs": [],
   "source": [
    "removeDups(ll)"
   ]
  },
  {
   "cell_type": "code",
   "execution_count": 103,
   "id": "3722c5f4-9ca0-4cdd-b05a-aa3e05a4283b",
   "metadata": {},
   "outputs": [
    {
     "ename": "AttributeError",
     "evalue": "'NoneType' object has no attribute 'val'",
     "output_type": "error",
     "traceback": [
      "\u001b[0;31m---------------------------------------------------------------------------\u001b[0m",
      "\u001b[0;31mAttributeError\u001b[0m                            Traceback (most recent call last)",
      "Input \u001b[0;32mIn [103]\u001b[0m, in \u001b[0;36m<cell line: 1>\u001b[0;34m()\u001b[0m\n\u001b[0;32m----> 1\u001b[0m \u001b[43mll\u001b[49m\u001b[38;5;241;43m.\u001b[39;49m\u001b[43mhead\u001b[49m\u001b[38;5;241;43m.\u001b[39;49m\u001b[43mnext\u001b[49m\u001b[38;5;241;43m.\u001b[39;49m\u001b[43mnext\u001b[49m\u001b[38;5;241;43m.\u001b[39;49m\u001b[43mval\u001b[49m\n",
      "\u001b[0;31mAttributeError\u001b[0m: 'NoneType' object has no attribute 'val'"
     ]
    }
   ],
   "source": [
    "ll.head.next.next.val"
   ]
  },
  {
   "cell_type": "code",
   "execution_count": null,
   "id": "8a378fc7-810f-417c-96af-6b1e09715a32",
   "metadata": {},
   "outputs": [],
   "source": []
  }
 ],
 "metadata": {
  "kernelspec": {
   "display_name": "Python 3 (ipykernel)",
   "language": "python",
   "name": "python3"
  },
  "language_info": {
   "codemirror_mode": {
    "name": "ipython",
    "version": 3
   },
   "file_extension": ".py",
   "mimetype": "text/x-python",
   "name": "python",
   "nbconvert_exporter": "python",
   "pygments_lexer": "ipython3",
   "version": "3.8.8"
  }
 },
 "nbformat": 4,
 "nbformat_minor": 5
}
