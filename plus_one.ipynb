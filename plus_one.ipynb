{
 "cells": [
  {
   "cell_type": "code",
   "execution_count": 1,
   "id": "0bbd3ee9-1222-4b35-b65e-70c0491fb580",
   "metadata": {},
   "outputs": [],
   "source": [
    "digits = [1,2,3]"
   ]
  },
  {
   "cell_type": "code",
   "execution_count": 3,
   "id": "44fe4f3f-a78d-4463-ad75-652a5d5d552c",
   "metadata": {},
   "outputs": [],
   "source": [
    "s = [str(i) for i in digits]\n",
    "digits_int = int(\"\".join(s))"
   ]
  },
  {
   "cell_type": "code",
   "execution_count": 5,
   "id": "a4a44d1d-e376-4b35-9327-24df34645ee9",
   "metadata": {},
   "outputs": [
    {
     "data": {
      "text/plain": [
       "123"
      ]
     },
     "execution_count": 5,
     "metadata": {},
     "output_type": "execute_result"
    }
   ],
   "source": [
    "digits_int"
   ]
  },
  {
   "cell_type": "code",
   "execution_count": 6,
   "id": "4818dc18-594b-4224-8bc2-c52817294c75",
   "metadata": {},
   "outputs": [],
   "source": [
    "plus_one = digits_int + 1"
   ]
  },
  {
   "cell_type": "code",
   "execution_count": 15,
   "id": "f7faa337-88d6-4327-837a-4fa20faf9160",
   "metadata": {},
   "outputs": [
    {
     "data": {
      "text/plain": [
       "124"
      ]
     },
     "execution_count": 15,
     "metadata": {},
     "output_type": "execute_result"
    }
   ],
   "source": [
    "plus_one"
   ]
  },
  {
   "cell_type": "code",
   "execution_count": 14,
   "id": "3dcd2fe3-ce9e-4aa1-9a7a-ba5c336d1c22",
   "metadata": {},
   "outputs": [
    {
     "ename": "TypeError",
     "evalue": "'int' object is not iterable",
     "output_type": "error",
     "traceback": [
      "\u001b[0;31m---------------------------------------------------------------------------\u001b[0m",
      "\u001b[0;31mTypeError\u001b[0m                                 Traceback (most recent call last)",
      "Input \u001b[0;32mIn [14]\u001b[0m, in \u001b[0;36m<cell line: 2>\u001b[0;34m()\u001b[0m\n\u001b[1;32m      1\u001b[0m output \u001b[38;5;241m=\u001b[39m []\n\u001b[0;32m----> 2\u001b[0m \u001b[38;5;28;01mfor\u001b[39;00m i \u001b[38;5;129;01min\u001b[39;00m plus_one:\n\u001b[1;32m      3\u001b[0m     output\u001b[38;5;241m.\u001b[39mappend(i)\n",
      "\u001b[0;31mTypeError\u001b[0m: 'int' object is not iterable"
     ]
    }
   ],
   "source": [
    "output = []\n",
    "for i in plus_one:\n",
    "    output.append(i)"
   ]
  },
  {
   "cell_type": "code",
   "execution_count": null,
   "id": "9b195491-8ede-4d62-82c8-a2d45ccbe0b3",
   "metadata": {},
   "outputs": [],
   "source": []
  }
 ],
 "metadata": {
  "kernelspec": {
   "display_name": "Python 3 (ipykernel)",
   "language": "python",
   "name": "python3"
  },
  "language_info": {
   "codemirror_mode": {
    "name": "ipython",
    "version": 3
   },
   "file_extension": ".py",
   "mimetype": "text/x-python",
   "name": "python",
   "nbconvert_exporter": "python",
   "pygments_lexer": "ipython3",
   "version": "3.8.8"
  }
 },
 "nbformat": 4,
 "nbformat_minor": 5
}
