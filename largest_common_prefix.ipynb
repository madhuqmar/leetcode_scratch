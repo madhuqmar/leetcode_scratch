{
 "cells": [
  {
   "cell_type": "code",
   "execution_count": 1,
   "id": "3b2db2e1-b705-4f38-a7b6-9a27a2a2b0a7",
   "metadata": {},
   "outputs": [],
   "source": [
    "strs = [\"flower\",\"flow\",\"flight\"]"
   ]
  },
  {
   "cell_type": "code",
   "execution_count": 9,
   "id": "b819450b-c603-4f19-b80e-b50bff8fb926",
   "metadata": {},
   "outputs": [
    {
     "data": {
      "text/plain": [
       "'fffllloowwer'"
      ]
     },
     "execution_count": 9,
     "metadata": {},
     "output_type": "execute_result"
    }
   ],
   "source": [
    "''.join(prefix)"
   ]
  },
  {
   "cell_type": "code",
   "execution_count": 7,
   "id": "6dded24a-eb57-41ce-b420-5167e3255610",
   "metadata": {},
   "outputs": [
    {
     "data": {
      "text/plain": [
       "['flower',\n",
       " 'flow',\n",
       " 'flight',\n",
       " 'flower',\n",
       " 'flow',\n",
       " 'flight',\n",
       " 'flower',\n",
       " 'flow',\n",
       " 'flower',\n",
       " 'flow',\n",
       " 'flower',\n",
       " 'flower']"
      ]
     },
     "execution_count": 7,
     "metadata": {},
     "output_type": "execute_result"
    }
   ],
   "source": [
    "list_in"
   ]
  },
  {
   "cell_type": "code",
   "execution_count": 22,
   "id": "ed5ec6cf-6635-42c7-b608-82d8e803d124",
   "metadata": {},
   "outputs": [
    {
     "data": {
      "text/plain": [
       "{'f', 'l'}"
      ]
     },
     "execution_count": 22,
     "metadata": {},
     "output_type": "execute_result"
    }
   ],
   "source": [
    "strs = [\"flower\",\"flow\",\"flight\"]\n",
    "set.intersection(*[set(x) for x in strs])"
   ]
  },
  {
   "cell_type": "code",
   "execution_count": 26,
   "id": "af074d73-3e87-4210-a4e9-88187c0edc54",
   "metadata": {},
   "outputs": [],
   "source": [
    "prefix_list = list(set.intersection(*[set(x) for x in strs]))"
   ]
  },
  {
   "cell_type": "code",
   "execution_count": 28,
   "id": "fdcc6357-09d6-4946-b9b0-85642c16a91b",
   "metadata": {},
   "outputs": [],
   "source": [
    "prefix_list.reverse()"
   ]
  },
  {
   "cell_type": "code",
   "execution_count": 29,
   "id": "7bee0e9c-f685-42f7-bb51-9e749fe3ffad",
   "metadata": {},
   "outputs": [
    {
     "data": {
      "text/plain": [
       "['l', 'f']"
      ]
     },
     "execution_count": 29,
     "metadata": {},
     "output_type": "execute_result"
    }
   ],
   "source": [
    "prefix_list"
   ]
  },
  {
   "cell_type": "code",
   "execution_count": 23,
   "id": "30a96d36-edc8-4ab0-b3b8-e026557d660e",
   "metadata": {},
   "outputs": [
    {
     "ename": "TypeError",
     "evalue": "descriptor 'intersection' for 'set' objects doesn't apply to a 'str' object",
     "output_type": "error",
     "traceback": [
      "\u001b[0;31m---------------------------------------------------------------------------\u001b[0m",
      "\u001b[0;31mTypeError\u001b[0m                                 Traceback (most recent call last)",
      "Input \u001b[0;32mIn [23]\u001b[0m, in \u001b[0;36m<cell line: 1>\u001b[0;34m()\u001b[0m\n\u001b[0;32m----> 1\u001b[0m \u001b[38;5;28;43mset\u001b[39;49m\u001b[38;5;241;43m.\u001b[39;49m\u001b[43mintersection\u001b[49m\u001b[43m(\u001b[49m\u001b[38;5;241;43m*\u001b[39;49m\u001b[43mstrs\u001b[49m\u001b[43m)\u001b[49m\n",
      "\u001b[0;31mTypeError\u001b[0m: descriptor 'intersection' for 'set' objects doesn't apply to a 'str' object"
     ]
    }
   ],
   "source": [
    "set.intersection(*)"
   ]
  },
  {
   "cell_type": "code",
   "execution_count": 30,
   "id": "9bcff927-f65a-4484-9fe8-177e61669dd2",
   "metadata": {},
   "outputs": [
    {
     "data": {
      "text/plain": [
       "False"
      ]
     },
     "execution_count": 30,
     "metadata": {},
     "output_type": "execute_result"
    }
   ],
   "source": [
    "'lf' in 'flower'"
   ]
  },
  {
   "cell_type": "markdown",
   "id": "2068da74-78d8-49d6-9aba-558e6fd04b2a",
   "metadata": {},
   "source": [
    "# Internet Solution"
   ]
  },
  {
   "cell_type": "code",
   "execution_count": 31,
   "id": "4d6c2e07-41b6-49e6-bb3f-96452bf28802",
   "metadata": {},
   "outputs": [],
   "source": [
    "# Find the minimum length string from the array\n",
    "minimumLength = len(strs[0])"
   ]
  },
  {
   "cell_type": "code",
   "execution_count": 32,
   "id": "8b4c684e-5582-4d2f-9598-d2da122cd03f",
   "metadata": {},
   "outputs": [
    {
     "data": {
      "text/plain": [
       "6"
      ]
     },
     "execution_count": 32,
     "metadata": {},
     "output_type": "execute_result"
    }
   ],
   "source": [
    "minimumLength"
   ]
  },
  {
   "cell_type": "code",
   "execution_count": 34,
   "id": "ca189f92-a58f-4d6a-be72-e4fa04306bc2",
   "metadata": {},
   "outputs": [],
   "source": [
    "for i in range(1, len(strs)):\n",
    "    minimumLength = min(minimumLength, len(strs[i]))"
   ]
  },
  {
   "cell_type": "code",
   "execution_count": 35,
   "id": "1ce2e1dc-cf6c-4ca6-947a-580c8101837b",
   "metadata": {},
   "outputs": [
    {
     "data": {
      "text/plain": [
       "4"
      ]
     },
     "execution_count": 35,
     "metadata": {},
     "output_type": "execute_result"
    }
   ],
   "source": [
    "minimumLength"
   ]
  },
  {
   "cell_type": "code",
   "execution_count": null,
   "id": "b4c09e10-116c-4faf-8821-b815a9f87ae4",
   "metadata": {},
   "outputs": [],
   "source": [
    "for i in range(0, minimumLength):\n",
    "    # Get the current character from the first string\n",
    "    current = strs[0][i]\n",
    "    # Check if this character is found in all other strings or not\n",
    "    for j in range(0, len(strs)):\n",
    "        if strs[j][i] != current:\n",
    "            return lcp\n",
    "        lcp += current"
   ]
  },
  {
   "cell_type": "code",
   "execution_count": 37,
   "id": "6abd5940-3f19-4802-92ca-a1d2e3edfc9d",
   "metadata": {},
   "outputs": [
    {
     "name": "stdout",
     "output_type": "stream",
     "text": [
      "f\n",
      "f\n",
      "f\n"
     ]
    }
   ],
   "source": [
    "for j in range(0, len(strs)):\n",
    "    k = strs[j][0]\n",
    "    print(k)"
   ]
  },
  {
   "cell_type": "code",
   "execution_count": null,
   "id": "bc87a00e-42ef-45cb-b6ba-e83b90e5b254",
   "metadata": {},
   "outputs": [],
   "source": []
  }
 ],
 "metadata": {
  "kernelspec": {
   "display_name": "Python 3 (ipykernel)",
   "language": "python",
   "name": "python3"
  },
  "language_info": {
   "codemirror_mode": {
    "name": "ipython",
    "version": 3
   },
   "file_extension": ".py",
   "mimetype": "text/x-python",
   "name": "python",
   "nbconvert_exporter": "python",
   "pygments_lexer": "ipython3",
   "version": "3.8.8"
  }
 },
 "nbformat": 4,
 "nbformat_minor": 5
}
