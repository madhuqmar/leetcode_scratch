{
 "cells": [
  {
   "cell_type": "code",
   "execution_count": 10,
   "id": "a66054d9-6088-4b35-b10b-a0b07070acca",
   "metadata": {},
   "outputs": [],
   "source": [
    "nums = [3,2,2,3]\n",
    "val = 3"
   ]
  },
  {
   "cell_type": "code",
   "execution_count": 11,
   "id": "2d631860-57eb-4a0f-892b-8a67e12fe9c4",
   "metadata": {},
   "outputs": [],
   "source": [
    "j = 0\n",
    "for i in range(0, len(nums)):\n",
    "    if nums[i] != val:\n",
    "        nums[j]= nums[i]\n",
    "        j += 1\n",
    "        \n",
    "for to_del in range(i, j-1, -1):\n",
    "    del nums[to_del]"
   ]
  },
  {
   "cell_type": "code",
   "execution_count": 12,
   "id": "be2e7f07-f0ee-46da-add2-50faf206a482",
   "metadata": {},
   "outputs": [
    {
     "data": {
      "text/plain": [
       "[2, 2, 2, 3]"
      ]
     },
     "execution_count": 12,
     "metadata": {},
     "output_type": "execute_result"
    }
   ],
   "source": [
    "nums"
   ]
  },
  {
   "cell_type": "code",
   "execution_count": 13,
   "id": "22f0a575-68fe-4c02-b6af-75b426b6e7c3",
   "metadata": {},
   "outputs": [
    {
     "data": {
      "text/plain": [
       "2"
      ]
     },
     "execution_count": 13,
     "metadata": {},
     "output_type": "execute_result"
    }
   ],
   "source": [
    "j"
   ]
  },
  {
   "cell_type": "code",
   "execution_count": 14,
   "id": "a8d2c378-9326-4566-b1bc-e532dfdcb0f7",
   "metadata": {},
   "outputs": [
    {
     "data": {
      "text/plain": [
       "3"
      ]
     },
     "execution_count": 14,
     "metadata": {},
     "output_type": "execute_result"
    }
   ],
   "source": [
    "i"
   ]
  },
  {
   "cell_type": "code",
   "execution_count": 15,
   "id": "dc280ad8-978f-44b8-9f9e-79e14fc9e716",
   "metadata": {},
   "outputs": [],
   "source": [
    "for to_del in range(i, j-1, -1):\n",
    "    del nums[to_del]"
   ]
  },
  {
   "cell_type": "code",
   "execution_count": 16,
   "id": "9e03249c-2697-4758-aed4-ead4ed2cde6b",
   "metadata": {},
   "outputs": [
    {
     "data": {
      "text/plain": [
       "[2, 2]"
      ]
     },
     "execution_count": 16,
     "metadata": {},
     "output_type": "execute_result"
    }
   ],
   "source": [
    "nums"
   ]
  },
  {
   "cell_type": "code",
   "execution_count": null,
   "id": "49a152bb-07f3-49c9-b8ab-ed4d0f1cfa5c",
   "metadata": {},
   "outputs": [],
   "source": []
  }
 ],
 "metadata": {
  "kernelspec": {
   "display_name": "Python 3 (ipykernel)",
   "language": "python",
   "name": "python3"
  },
  "language_info": {
   "codemirror_mode": {
    "name": "ipython",
    "version": 3
   },
   "file_extension": ".py",
   "mimetype": "text/x-python",
   "name": "python",
   "nbconvert_exporter": "python",
   "pygments_lexer": "ipython3",
   "version": "3.8.8"
  }
 },
 "nbformat": 4,
 "nbformat_minor": 5
}
