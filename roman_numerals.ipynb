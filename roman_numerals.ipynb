{
 "cells": [
  {
   "cell_type": "code",
   "execution_count": 1,
   "id": "cadcfe67-7243-4b45-a5d7-015e276c2648",
   "metadata": {},
   "outputs": [],
   "source": [
    "roman_map = {'I': 1, 'V': 5, 'X': 10, 'L': 50, 'C': 100, 'D': 500, 'M': 1000}"
   ]
  },
  {
   "cell_type": "code",
   "execution_count": 5,
   "id": "c12471db-4d5a-4399-b4ef-e9025f58d82e",
   "metadata": {},
   "outputs": [],
   "source": [
    "s = \"III\""
   ]
  },
  {
   "cell_type": "code",
   "execution_count": 3,
   "id": "db2a242a-0b72-4aa3-bc29-2a815f261362",
   "metadata": {},
   "outputs": [],
   "source": [
    "n = len(s)\n",
    "num = roman_map[s[n - 1]]"
   ]
  },
  {
   "cell_type": "code",
   "execution_count": 4,
   "id": "b8ec2045-733f-4793-a140-0468d3b9a6b6",
   "metadata": {},
   "outputs": [
    {
     "data": {
      "text/plain": [
       "1"
      ]
     },
     "execution_count": 4,
     "metadata": {},
     "output_type": "execute_result"
    }
   ],
   "source": [
    "num"
   ]
  },
  {
   "cell_type": "code",
   "execution_count": 10,
   "id": "b2a9bf8d-d619-4747-89cc-ad80fad24538",
   "metadata": {},
   "outputs": [
    {
     "data": {
      "text/plain": [
       "'I'"
      ]
     },
     "execution_count": 10,
     "metadata": {},
     "output_type": "execute_result"
    }
   ],
   "source": [
    "s[2]"
   ]
  },
  {
   "cell_type": "code",
   "execution_count": 11,
   "id": "bb3b45b4-1cad-4a15-bcef-c47958e06003",
   "metadata": {},
   "outputs": [
    {
     "data": {
      "text/plain": [
       "5"
      ]
     },
     "execution_count": 11,
     "metadata": {},
     "output_type": "execute_result"
    }
   ],
   "source": [
    "roman_map['V']"
   ]
  },
  {
   "cell_type": "code",
   "execution_count": null,
   "id": "5abc2562-dde6-462a-a86e-bfe2463c0fa7",
   "metadata": {},
   "outputs": [],
   "source": []
  },
  {
   "cell_type": "code",
   "execution_count": null,
   "id": "b05c0556-f6f3-45cf-8189-2beb5d4aa32c",
   "metadata": {},
   "outputs": [],
   "source": []
  }
 ],
 "metadata": {
  "kernelspec": {
   "display_name": "Python 3 (ipykernel)",
   "language": "python",
   "name": "python3"
  },
  "language_info": {
   "codemirror_mode": {
    "name": "ipython",
    "version": 3
   },
   "file_extension": ".py",
   "mimetype": "text/x-python",
   "name": "python",
   "nbconvert_exporter": "python",
   "pygments_lexer": "ipython3",
   "version": "3.8.8"
  }
 },
 "nbformat": 4,
 "nbformat_minor": 5
}
