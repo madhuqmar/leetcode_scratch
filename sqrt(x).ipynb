{
 "cells": [
  {
   "cell_type": "code",
   "execution_count": 14,
   "id": "5b134d98-bf90-4cb7-84f9-63b5a0da85ce",
   "metadata": {},
   "outputs": [],
   "source": [
    "x = 8"
   ]
  },
  {
   "cell_type": "code",
   "execution_count": 15,
   "id": "43a8cc23-0f30-4b74-8ef5-147adde65746",
   "metadata": {},
   "outputs": [],
   "source": [
    "if x < 2:\n",
    "    res = x \n",
    "        \n",
    "start = 0\n",
    "end = x/2\n",
    "        \n",
    "while (start <= end):\n",
    "    mid = int((start + end) / 2)\n",
    "    square = mid * mid\n",
    "    if square == x:\n",
    "        res = mid\n",
    "    if square > x:\n",
    "        end = mid - 1\n",
    "    else:\n",
    "        start = mid + 1"
   ]
  },
  {
   "cell_type": "code",
   "execution_count": 16,
   "id": "ae83fca2-0d45-4fb2-a68b-f1bd275f5f6a",
   "metadata": {},
   "outputs": [
    {
     "data": {
      "text/plain": [
       "2"
      ]
     },
     "execution_count": 16,
     "metadata": {},
     "output_type": "execute_result"
    }
   ],
   "source": [
    "res"
   ]
  },
  {
   "cell_type": "code",
   "execution_count": 19,
   "id": "94a1e116-07e5-4f92-b0b8-51a4ddd356b6",
   "metadata": {},
   "outputs": [
    {
     "data": {
      "text/plain": [
       "3"
      ]
     },
     "execution_count": 19,
     "metadata": {},
     "output_type": "execute_result"
    }
   ],
   "source": [
    "int((3 + 4) / 2)"
   ]
  },
  {
   "cell_type": "code",
   "execution_count": null,
   "id": "cc5b6048-de6e-4e5d-90e7-2c157ca0aefb",
   "metadata": {},
   "outputs": [],
   "source": []
  }
 ],
 "metadata": {
  "kernelspec": {
   "display_name": "Python 3 (ipykernel)",
   "language": "python",
   "name": "python3"
  },
  "language_info": {
   "codemirror_mode": {
    "name": "ipython",
    "version": 3
   },
   "file_extension": ".py",
   "mimetype": "text/x-python",
   "name": "python",
   "nbconvert_exporter": "python",
   "pygments_lexer": "ipython3",
   "version": "3.8.8"
  }
 },
 "nbformat": 4,
 "nbformat_minor": 5
}
