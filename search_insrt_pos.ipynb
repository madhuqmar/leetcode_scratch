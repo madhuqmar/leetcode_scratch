{
 "cells": [
  {
   "cell_type": "code",
   "execution_count": 29,
   "id": "1e53ec07-1580-4ed4-8116-8687a4d92b59",
   "metadata": {},
   "outputs": [],
   "source": [
    "nums = [1,3,5,6]\n",
    "target = 2"
   ]
  },
  {
   "cell_type": "code",
   "execution_count": 34,
   "id": "f178e9dd-4ed0-42ae-a7d1-e3ad43cfadec",
   "metadata": {},
   "outputs": [],
   "source": [
    "if target not in nums and target > nums[-1]: index =  len(nums)\n",
    "if target not in nums and target < nums[0]: index = 0\n",
    "\n",
    "for i in range(0, len(nums)):\n",
    "    if nums[i] == target:\n",
    "        index = i\n",
    "    else:\n",
    "        if target not in nums and target < nums[-1] and target > nums[0]:\n",
    "            for i in range(0, len(nums)-1):\n",
    "                if nums[i] < target and nums[i+1] > target:\n",
    "                    index = i+1"
   ]
  },
  {
   "cell_type": "code",
   "execution_count": 35,
   "id": "e1264690-8b34-461c-9e59-8c4bae8315f8",
   "metadata": {},
   "outputs": [
    {
     "data": {
      "text/plain": [
       "1"
      ]
     },
     "execution_count": 35,
     "metadata": {},
     "output_type": "execute_result"
    }
   ],
   "source": [
    "index"
   ]
  },
  {
   "cell_type": "code",
   "execution_count": null,
   "id": "11c4a91a-8a12-4f75-a14d-5883e86b105a",
   "metadata": {},
   "outputs": [],
   "source": []
  }
 ],
 "metadata": {
  "kernelspec": {
   "display_name": "Python 3 (ipykernel)",
   "language": "python",
   "name": "python3"
  },
  "language_info": {
   "codemirror_mode": {
    "name": "ipython",
    "version": 3
   },
   "file_extension": ".py",
   "mimetype": "text/x-python",
   "name": "python",
   "nbconvert_exporter": "python",
   "pygments_lexer": "ipython3",
   "version": "3.8.8"
  }
 },
 "nbformat": 4,
 "nbformat_minor": 5
}
