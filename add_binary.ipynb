{
 "cells": [
  {
   "cell_type": "code",
   "execution_count": 8,
   "id": "bb47042a-afda-40a1-a300-e2a1dd71acf5",
   "metadata": {},
   "outputs": [],
   "source": [
    "a = \"1010\"\n",
    "b = \"1011\""
   ]
  },
  {
   "cell_type": "code",
   "execution_count": 9,
   "id": "a356b7f3-6c84-4c43-8aae-ba82c85f4dba",
   "metadata": {},
   "outputs": [],
   "source": [
    "a_int = int(a, 2)\n",
    "b_int = int(b, 2)"
   ]
  },
  {
   "cell_type": "code",
   "execution_count": 10,
   "id": "a0ef916e-27fa-4bc7-854e-97f39924b676",
   "metadata": {},
   "outputs": [],
   "source": [
    "binary_sum = a_int + b_int"
   ]
  },
  {
   "cell_type": "code",
   "execution_count": 11,
   "id": "df739f1a-2905-4909-88b3-c0fe94bf3d79",
   "metadata": {},
   "outputs": [
    {
     "data": {
      "text/plain": [
       "'10101'"
      ]
     },
     "execution_count": 11,
     "metadata": {},
     "output_type": "execute_result"
    }
   ],
   "source": [
    "\"{0:b}\".format(binary_sum)"
   ]
  },
  {
   "cell_type": "code",
   "execution_count": null,
   "id": "460f8526-6a0a-459d-bd96-a37d76a6e5b4",
   "metadata": {},
   "outputs": [],
   "source": []
  }
 ],
 "metadata": {
  "kernelspec": {
   "display_name": "Python 3 (ipykernel)",
   "language": "python",
   "name": "python3"
  },
  "language_info": {
   "codemirror_mode": {
    "name": "ipython",
    "version": 3
   },
   "file_extension": ".py",
   "mimetype": "text/x-python",
   "name": "python",
   "nbconvert_exporter": "python",
   "pygments_lexer": "ipython3",
   "version": "3.8.8"
  }
 },
 "nbformat": 4,
 "nbformat_minor": 5
}
