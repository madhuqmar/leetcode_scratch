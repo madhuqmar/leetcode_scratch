{
 "cells": [
  {
   "cell_type": "code",
   "execution_count": 3,
   "id": "dc805439-d86e-4bee-85d4-1509cd1f2686",
   "metadata": {},
   "outputs": [],
   "source": [
    "def twoSum(self, nums, target):\n",
    "        indcs = []\n",
    "        for i in range(0, len(nums)):\n",
    "            if target - nums[i] in nums:\n",
    "                indcs.append(i, nums.index(target - nums[i]))\n",
    "        return indcs"
   ]
  },
  {
   "cell_type": "code",
   "execution_count": null,
   "id": "9637f056-b2d5-44e9-944b-4a18308fe881",
   "metadata": {},
   "outputs": [],
   "source": []
  },
  {
   "cell_type": "code",
   "execution_count": 75,
   "id": "266e8eec-6fc9-40cc-b899-ea7ada4947f2",
   "metadata": {},
   "outputs": [],
   "source": [
    "nums = [2,7,11,15]\n",
    "target = 9"
   ]
  },
  {
   "cell_type": "code",
   "execution_count": 76,
   "id": "3032c87f-3426-42cc-8844-e19f435347f7",
   "metadata": {},
   "outputs": [],
   "source": [
    "indcs = set()\n",
    "for i in range(0, len(nums)):\n",
    "        if target - nums[i] in nums[i+1:]:\n",
    "            indcs.add(i)\n",
    "            sec_ind = target - nums[i]\n",
    "            for j in find_indices(nums, sec_ind):\n",
    "                if j not in indcs:\n",
    "                    indcs.add(j)"
   ]
  },
  {
   "cell_type": "code",
   "execution_count": 77,
   "id": "33b45d1d-8a54-447d-b2ae-3812b3018fbc",
   "metadata": {},
   "outputs": [
    {
     "data": {
      "text/plain": [
       "[0, 1]"
      ]
     },
     "execution_count": 77,
     "metadata": {},
     "output_type": "execute_result"
    }
   ],
   "source": [
    "list(indcs)"
   ]
  },
  {
   "cell_type": "code",
   "execution_count": 39,
   "id": "b1b368ab-c7dc-4907-99d9-4a593c547fc5",
   "metadata": {},
   "outputs": [
    {
     "data": {
      "text/plain": [
       "0"
      ]
     },
     "execution_count": 39,
     "metadata": {},
     "output_type": "execute_result"
    }
   ],
   "source": [
    "nums[1:].index(3)"
   ]
  },
  {
   "cell_type": "code",
   "execution_count": 45,
   "id": "9703dba5-d7fa-4c0f-b164-1a28e1b6ca06",
   "metadata": {},
   "outputs": [
    {
     "data": {
      "text/plain": [
       "0"
      ]
     },
     "execution_count": 45,
     "metadata": {},
     "output_type": "execute_result"
    }
   ],
   "source": [
    "nums[1:].index(3)"
   ]
  },
  {
   "cell_type": "code",
   "execution_count": 46,
   "id": "fde2add6-398a-42d2-b268-bc6342d73166",
   "metadata": {},
   "outputs": [
    {
     "data": {
      "text/plain": [
       "0"
      ]
     },
     "execution_count": 46,
     "metadata": {},
     "output_type": "execute_result"
    }
   ],
   "source": [
    "nums.index(3)"
   ]
  },
  {
   "cell_type": "code",
   "execution_count": 65,
   "id": "e21f99b0-d3d4-407c-9b43-a0f5618b1f23",
   "metadata": {},
   "outputs": [
    {
     "data": {
      "text/plain": [
       "[3]"
      ]
     },
     "execution_count": 65,
     "metadata": {},
     "output_type": "execute_result"
    }
   ],
   "source": [
    "nums[1:]"
   ]
  },
  {
   "cell_type": "code",
   "execution_count": 66,
   "id": "c404b8a9-4258-43d4-99ed-843563b661c7",
   "metadata": {},
   "outputs": [],
   "source": []
  },
  {
   "cell_type": "code",
   "execution_count": 67,
   "id": "11676804-96f6-454f-9bd8-5e36369ebf23",
   "metadata": {},
   "outputs": [
    {
     "data": {
      "text/plain": [
       "[0, 1]"
      ]
     },
     "execution_count": 67,
     "metadata": {},
     "output_type": "execute_result"
    }
   ],
   "source": [
    "find_indices(nums, 3)"
   ]
  },
  {
   "cell_type": "code",
   "execution_count": null,
   "id": "7213017f-4d30-49d0-bd38-4ec8f0596c70",
   "metadata": {},
   "outputs": [],
   "source": []
  }
 ],
 "metadata": {
  "kernelspec": {
   "display_name": "Python 3 (ipykernel)",
   "language": "python",
   "name": "python3"
  },
  "language_info": {
   "codemirror_mode": {
    "name": "ipython",
    "version": 3
   },
   "file_extension": ".py",
   "mimetype": "text/x-python",
   "name": "python",
   "nbconvert_exporter": "python",
   "pygments_lexer": "ipython3",
   "version": "3.8.8"
  }
 },
 "nbformat": 4,
 "nbformat_minor": 5
}
