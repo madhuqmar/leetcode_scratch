{
 "cells": [
  {
   "cell_type": "code",
   "execution_count": 21,
   "id": "96c72166-20d2-4885-ae0e-0c1aab3bec6d",
   "metadata": {},
   "outputs": [],
   "source": [
    "class Node:\n",
    "    def __init__(self, val):\n",
    "        self.val = val\n",
    "        self.next = None"
   ]
  },
  {
   "cell_type": "code",
   "execution_count": 22,
   "id": "07a5f5ec-8ebb-47b8-b3c4-7a5f91b9e44a",
   "metadata": {},
   "outputs": [],
   "source": [
    "#class LinkedList(object):\n",
    "    #def __init__(self, sequence):\n",
    "        \n",
    "     #   self.head = Node(sequence[0])\n",
    "        \n",
    "      #  current = self.head\n",
    "      #  for item in sequence[1:]:\n",
    "     #       current.next = Node(item)\n",
    "        #    current = current.next"
   ]
  },
  {
   "cell_type": "code",
   "execution_count": 70,
   "id": "97766e51-b5c5-49a5-b9c6-a29aaf08820c",
   "metadata": {},
   "outputs": [],
   "source": [
    "list1 = [2,4,3]\n",
    "#ll1 = LinkedList(list1)"
   ]
  },
  {
   "cell_type": "code",
   "execution_count": 71,
   "id": "ed2ded06-b5ae-43f8-a942-01401ef85239",
   "metadata": {},
   "outputs": [],
   "source": [
    "curr = Node(list1[0])\n",
    "curr.next = Node(list1[1])\n",
    "curr.next.next = Node(list1[2])"
   ]
  },
  {
   "cell_type": "code",
   "execution_count": 72,
   "id": "56e4fe4e-f773-4de1-9549-269d2e37a7e4",
   "metadata": {},
   "outputs": [
    {
     "data": {
      "text/plain": [
       "3"
      ]
     },
     "execution_count": 72,
     "metadata": {},
     "output_type": "execute_result"
    }
   ],
   "source": [
    "curr.next.next.val"
   ]
  },
  {
   "cell_type": "code",
   "execution_count": 42,
   "id": "cbee376f-e272-4df7-9d0f-50ee1fc8c153",
   "metadata": {},
   "outputs": [],
   "source": [
    "def reverse_linked_list(head):\n",
    "    prev = None\n",
    "    current = head\n",
    "\n",
    "    while current is not None:\n",
    "        next_node = current.next\n",
    "        current.next = prev\n",
    "        prev = current\n",
    "        current = next_node\n",
    "\n",
    "    return prev"
   ]
  },
  {
   "cell_type": "code",
   "execution_count": 43,
   "id": "34395f27-5908-4b08-9959-5ed098d24552",
   "metadata": {},
   "outputs": [],
   "source": [
    "curr_reversed = reverse_linked_list(curr)"
   ]
  },
  {
   "cell_type": "code",
   "execution_count": 44,
   "id": "5fdae0a3-ff7e-46c5-b619-ceb79cea3243",
   "metadata": {},
   "outputs": [
    {
     "data": {
      "text/plain": [
       "3"
      ]
     },
     "execution_count": 44,
     "metadata": {},
     "output_type": "execute_result"
    }
   ],
   "source": [
    "curr_reversed.val"
   ]
  },
  {
   "cell_type": "code",
   "execution_count": 47,
   "id": "7902bbc2-e64c-440e-b05c-d82070513060",
   "metadata": {},
   "outputs": [],
   "source": [
    "def linked_list_to_integer(head):\n",
    "    result = 0\n",
    "    current = head\n",
    "\n",
    "    while current is not None:\n",
    "        result = (result * 10) + current.val\n",
    "        current = current.next\n",
    "\n",
    "    return result"
   ]
  },
  {
   "cell_type": "code",
   "execution_count": 53,
   "id": "45455754-a527-488d-99f8-9265dc778d64",
   "metadata": {},
   "outputs": [],
   "source": [
    "def create_linked_list_from_integer(num):\n",
    "    head = None\n",
    "\n",
    "    # Extract digits from the number\n",
    "    while num != 0:\n",
    "        digit = num % 10\n",
    "        num //= 10\n",
    "\n",
    "        # Create a new node with the extracted digit\n",
    "        new_node = Node(digit)\n",
    "\n",
    "        # Link the new node to the existing list\n",
    "        if head is None:\n",
    "            head = new_node\n",
    "        else:\n",
    "            new_node.next = head\n",
    "            head = new_node\n",
    "\n",
    "    # Handle the case when the number is 0\n",
    "    if head is None:\n",
    "        head = Node(0)\n",
    "    \n",
    "    return head"
   ]
  },
  {
   "cell_type": "code",
   "execution_count": 54,
   "id": "e001c417-b3ee-4252-8176-d1cce37a7e4e",
   "metadata": {},
   "outputs": [],
   "source": [
    "new_ll = create_linked_list_from_integer(342)"
   ]
  },
  {
   "cell_type": "code",
   "execution_count": 55,
   "id": "1e7315ec-7e37-411d-8b75-663212d095ed",
   "metadata": {},
   "outputs": [
    {
     "data": {
      "text/plain": [
       "3"
      ]
     },
     "execution_count": 55,
     "metadata": {},
     "output_type": "execute_result"
    }
   ],
   "source": [
    "new_ll.val"
   ]
  },
  {
   "cell_type": "code",
   "execution_count": 56,
   "id": "0a704fed-71f7-468c-ba44-36239c5a8da3",
   "metadata": {},
   "outputs": [],
   "source": [
    "def reverse_integer(num):\n",
    "    reversed_str = str(num)[::-1]\n",
    "    reversed_num = int(reversed_str)\n",
    "\n",
    "    return reversed_num"
   ]
  },
  {
   "cell_type": "code",
   "execution_count": 57,
   "id": "2124e9bd-71b1-424d-83cc-ae7d55bee57e",
   "metadata": {},
   "outputs": [
    {
     "data": {
      "text/plain": [
       "243"
      ]
     },
     "execution_count": 57,
     "metadata": {},
     "output_type": "execute_result"
    }
   ],
   "source": [
    "reverse_integer(342)"
   ]
  },
  {
   "cell_type": "code",
   "execution_count": null,
   "id": "d0843bff-ab51-4b3c-8101-3991a76a39c8",
   "metadata": {},
   "outputs": [],
   "source": [
    "while num != 0:\n",
    "    digit = num % 10\n",
    "    num //= 10"
   ]
  },
  {
   "cell_type": "code",
   "execution_count": 58,
   "id": "bcd7db1d-b66c-43d7-a06b-8c9a344af4a9",
   "metadata": {},
   "outputs": [],
   "source": [
    "num = 342\n",
    "digit = num % 10"
   ]
  },
  {
   "cell_type": "code",
   "execution_count": 59,
   "id": "aca1e021-1777-43c0-b5c2-97c7bb6481c4",
   "metadata": {},
   "outputs": [
    {
     "data": {
      "text/plain": [
       "2"
      ]
     },
     "execution_count": 59,
     "metadata": {},
     "output_type": "execute_result"
    }
   ],
   "source": [
    "digit"
   ]
  },
  {
   "cell_type": "code",
   "execution_count": 60,
   "id": "3ff8e4ce-8abe-467f-b407-a981083b6182",
   "metadata": {},
   "outputs": [
    {
     "data": {
      "text/plain": [
       "34"
      ]
     },
     "execution_count": 60,
     "metadata": {},
     "output_type": "execute_result"
    }
   ],
   "source": [
    "num //= 10\n",
    "num"
   ]
  },
  {
   "cell_type": "code",
   "execution_count": 61,
   "id": "c4a594e9-1a48-43db-af43-3cf280ebccba",
   "metadata": {},
   "outputs": [],
   "source": [
    "check = create_linked_list_from_integer(243)"
   ]
  },
  {
   "cell_type": "code",
   "execution_count": 62,
   "id": "0707d8bc-f5b3-4858-909f-5c737c00c806",
   "metadata": {},
   "outputs": [
    {
     "data": {
      "text/plain": [
       "2"
      ]
     },
     "execution_count": 62,
     "metadata": {},
     "output_type": "execute_result"
    }
   ],
   "source": [
    "check.val"
   ]
  },
  {
   "cell_type": "code",
   "execution_count": 82,
   "id": "5d231773-39e9-485d-a3c9-f6468de9bf44",
   "metadata": {},
   "outputs": [
    {
     "data": {
      "text/plain": [
       "0"
      ]
     },
     "execution_count": 82,
     "metadata": {},
     "output_type": "execute_result"
    }
   ],
   "source": [
    "8 // 10"
   ]
  },
  {
   "cell_type": "code",
   "execution_count": 83,
   "id": "ea26fb1c-360b-46ac-9066-0899dd6b2fa6",
   "metadata": {},
   "outputs": [
    {
     "data": {
      "text/plain": [
       "8"
      ]
     },
     "execution_count": 83,
     "metadata": {},
     "output_type": "execute_result"
    }
   ],
   "source": [
    "8 % 10"
   ]
  },
  {
   "cell_type": "code",
   "execution_count": 76,
   "id": "4a6f767c-5a35-4f63-b2bf-bf99be472198",
   "metadata": {},
   "outputs": [],
   "source": [
    "sum_val = 0\n",
    "\n",
    "if curr:\n",
    "    sum_val += curr.val\n",
    "    curr = curr.next\n",
    "\n"
   ]
  },
  {
   "cell_type": "code",
   "execution_count": 77,
   "id": "61227997-2ed1-44e0-a3a1-9bfa558cb691",
   "metadata": {},
   "outputs": [
    {
     "data": {
      "text/plain": [
       "0"
      ]
     },
     "execution_count": 77,
     "metadata": {},
     "output_type": "execute_result"
    }
   ],
   "source": [
    "sum_val"
   ]
  },
  {
   "cell_type": "code",
   "execution_count": null,
   "id": "8e874a48-203c-4d7e-99b4-f3452059c040",
   "metadata": {},
   "outputs": [],
   "source": []
  }
 ],
 "metadata": {
  "kernelspec": {
   "display_name": "Python 3 (ipykernel)",
   "language": "python",
   "name": "python3"
  },
  "language_info": {
   "codemirror_mode": {
    "name": "ipython",
    "version": 3
   },
   "file_extension": ".py",
   "mimetype": "text/x-python",
   "name": "python",
   "nbconvert_exporter": "python",
   "pygments_lexer": "ipython3",
   "version": "3.8.8"
  }
 },
 "nbformat": 4,
 "nbformat_minor": 5
}
