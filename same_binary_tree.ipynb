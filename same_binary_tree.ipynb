{
 "cells": [
  {
   "cell_type": "code",
   "execution_count": 1,
   "id": "0fa95c1e-d60a-40ba-a885-29a7a34449e7",
   "metadata": {},
   "outputs": [],
   "source": [
    "class TreeNode(object):\n",
    "    def __init__(self, val=0, left=None, right=None):\n",
    "        self.val = val\n",
    "        self.left = left\n",
    "        self.right = right"
   ]
  },
  {
   "cell_type": "code",
   "execution_count": 17,
   "id": "127a7abb-a697-4aab-bf7b-380f1b014cdb",
   "metadata": {},
   "outputs": [],
   "source": [
    "from math import floor"
   ]
  },
  {
   "cell_type": "code",
   "execution_count": 26,
   "id": "c50ef0f2-c789-4541-bdd3-a09e6d6e2620",
   "metadata": {},
   "outputs": [],
   "source": [
    "def to_binary_tree(items):\n",
    "    n = len(items)\n",
    "    if n == 0:\n",
    "        return None\n",
    "\n",
    "    def inner(index: int = 0) -> TreeNode:\n",
    "        if n <= index or items[index] is None:\n",
    "            return None\n",
    "\n",
    "        node = TreeNode(items[floor(n/2)])\n",
    "        node.left = inner(index)\n",
    "        node.right = inner(n-1)\n",
    "        return node\n",
    "\n",
    "    return inner()"
   ]
  },
  {
   "cell_type": "code",
   "execution_count": 3,
   "id": "38305629-1a44-4e07-9a6d-6d0bd9be9415",
   "metadata": {},
   "outputs": [],
   "source": [
    "#!pip install drawtree"
   ]
  },
  {
   "cell_type": "code",
   "execution_count": 4,
   "id": "6080c359-3347-40a5-8ddc-8ba4dd60d3f6",
   "metadata": {},
   "outputs": [],
   "source": [
    "from drawtree import draw_level_order"
   ]
  },
  {
   "cell_type": "code",
   "execution_count": 141,
   "id": "57db9c67-7143-4263-bd31-19e37f1cea8e",
   "metadata": {},
   "outputs": [],
   "source": [
    "p = [1,2,3]\n",
    "q = [1,0,2,3]\n",
    "\n",
    "p_str = str(p)\n",
    "q_str = str(q)"
   ]
  },
  {
   "cell_type": "code",
   "execution_count": 5,
   "id": "cadfd1fd-b671-495c-bdf2-8b8e1774e3db",
   "metadata": {},
   "outputs": [],
   "source": [
    "nums = [-10,-3,0,5,9]"
   ]
  },
  {
   "cell_type": "code",
   "execution_count": 7,
   "id": "84c76efb-6b58-4d87-9a8a-4524bc2afc1e",
   "metadata": {},
   "outputs": [
    {
     "name": "stdout",
     "output_type": "stream",
     "text": [
      "   -10\n",
      "   / \\\n",
      "  -3  0\n",
      " / \\\n",
      "5   9\n"
     ]
    }
   ],
   "source": [
    "draw_level_order(str(nums))"
   ]
  },
  {
   "cell_type": "code",
   "execution_count": 8,
   "id": "228e2e1b-5dbd-4cd3-b0fb-46cca7d0e09b",
   "metadata": {},
   "outputs": [
    {
     "ename": "NameError",
     "evalue": "name 'p' is not defined",
     "output_type": "error",
     "traceback": [
      "\u001b[0;31m---------------------------------------------------------------------------\u001b[0m",
      "\u001b[0;31mNameError\u001b[0m                                 Traceback (most recent call last)",
      "Input \u001b[0;32mIn [8]\u001b[0m, in \u001b[0;36m<cell line: 1>\u001b[0;34m()\u001b[0m\n\u001b[0;32m----> 1\u001b[0m p \u001b[38;5;241m=\u001b[39m to_binary_tree(\u001b[43mp\u001b[49m)\n\u001b[1;32m      2\u001b[0m q \u001b[38;5;241m=\u001b[39m to_binary_tree(q)\n",
      "\u001b[0;31mNameError\u001b[0m: name 'p' is not defined"
     ]
    }
   ],
   "source": [
    "p = to_binary_tree(p)\n",
    "q = to_binary_tree(q)"
   ]
  },
  {
   "cell_type": "code",
   "execution_count": 27,
   "id": "29bb8d0e-b572-4aa5-a3dc-4a5484e5479d",
   "metadata": {},
   "outputs": [
    {
     "ename": "RecursionError",
     "evalue": "maximum recursion depth exceeded",
     "output_type": "error",
     "traceback": [
      "\u001b[0;31m---------------------------------------------------------------------------\u001b[0m",
      "\u001b[0;31mRecursionError\u001b[0m                            Traceback (most recent call last)",
      "Input \u001b[0;32mIn [27]\u001b[0m, in \u001b[0;36m<cell line: 1>\u001b[0;34m()\u001b[0m\n\u001b[0;32m----> 1\u001b[0m n \u001b[38;5;241m=\u001b[39m \u001b[43mto_binary_tree\u001b[49m\u001b[43m(\u001b[49m\u001b[43mnums\u001b[49m\u001b[43m)\u001b[49m\n",
      "Input \u001b[0;32mIn [26]\u001b[0m, in \u001b[0;36mto_binary_tree\u001b[0;34m(items)\u001b[0m\n\u001b[1;32m     12\u001b[0m     node\u001b[38;5;241m.\u001b[39mright \u001b[38;5;241m=\u001b[39m inner(n\u001b[38;5;241m-\u001b[39m\u001b[38;5;241m1\u001b[39m)\n\u001b[1;32m     13\u001b[0m     \u001b[38;5;28;01mreturn\u001b[39;00m node\n\u001b[0;32m---> 15\u001b[0m \u001b[38;5;28;01mreturn\u001b[39;00m \u001b[43minner\u001b[49m\u001b[43m(\u001b[49m\u001b[43m)\u001b[49m\n",
      "Input \u001b[0;32mIn [26]\u001b[0m, in \u001b[0;36mto_binary_tree.<locals>.inner\u001b[0;34m(index)\u001b[0m\n\u001b[1;32m      8\u001b[0m     \u001b[38;5;28;01mreturn\u001b[39;00m \u001b[38;5;28;01mNone\u001b[39;00m\n\u001b[1;32m     10\u001b[0m node \u001b[38;5;241m=\u001b[39m TreeNode(items[floor(n\u001b[38;5;241m/\u001b[39m\u001b[38;5;241m2\u001b[39m)])\n\u001b[0;32m---> 11\u001b[0m node\u001b[38;5;241m.\u001b[39mleft \u001b[38;5;241m=\u001b[39m \u001b[43minner\u001b[49m\u001b[43m(\u001b[49m\u001b[43mindex\u001b[49m\u001b[43m)\u001b[49m\n\u001b[1;32m     12\u001b[0m node\u001b[38;5;241m.\u001b[39mright \u001b[38;5;241m=\u001b[39m inner(n\u001b[38;5;241m-\u001b[39m\u001b[38;5;241m1\u001b[39m)\n\u001b[1;32m     13\u001b[0m \u001b[38;5;28;01mreturn\u001b[39;00m node\n",
      "Input \u001b[0;32mIn [26]\u001b[0m, in \u001b[0;36mto_binary_tree.<locals>.inner\u001b[0;34m(index)\u001b[0m\n\u001b[1;32m      8\u001b[0m     \u001b[38;5;28;01mreturn\u001b[39;00m \u001b[38;5;28;01mNone\u001b[39;00m\n\u001b[1;32m     10\u001b[0m node \u001b[38;5;241m=\u001b[39m TreeNode(items[floor(n\u001b[38;5;241m/\u001b[39m\u001b[38;5;241m2\u001b[39m)])\n\u001b[0;32m---> 11\u001b[0m node\u001b[38;5;241m.\u001b[39mleft \u001b[38;5;241m=\u001b[39m \u001b[43minner\u001b[49m\u001b[43m(\u001b[49m\u001b[43mindex\u001b[49m\u001b[43m)\u001b[49m\n\u001b[1;32m     12\u001b[0m node\u001b[38;5;241m.\u001b[39mright \u001b[38;5;241m=\u001b[39m inner(n\u001b[38;5;241m-\u001b[39m\u001b[38;5;241m1\u001b[39m)\n\u001b[1;32m     13\u001b[0m \u001b[38;5;28;01mreturn\u001b[39;00m node\n",
      "    \u001b[0;31m[... skipping similar frames: to_binary_tree.<locals>.inner at line 11 (2967 times)]\u001b[0m\n",
      "Input \u001b[0;32mIn [26]\u001b[0m, in \u001b[0;36mto_binary_tree.<locals>.inner\u001b[0;34m(index)\u001b[0m\n\u001b[1;32m      8\u001b[0m     \u001b[38;5;28;01mreturn\u001b[39;00m \u001b[38;5;28;01mNone\u001b[39;00m\n\u001b[1;32m     10\u001b[0m node \u001b[38;5;241m=\u001b[39m TreeNode(items[floor(n\u001b[38;5;241m/\u001b[39m\u001b[38;5;241m2\u001b[39m)])\n\u001b[0;32m---> 11\u001b[0m node\u001b[38;5;241m.\u001b[39mleft \u001b[38;5;241m=\u001b[39m \u001b[43minner\u001b[49m\u001b[43m(\u001b[49m\u001b[43mindex\u001b[49m\u001b[43m)\u001b[49m\n\u001b[1;32m     12\u001b[0m node\u001b[38;5;241m.\u001b[39mright \u001b[38;5;241m=\u001b[39m inner(n\u001b[38;5;241m-\u001b[39m\u001b[38;5;241m1\u001b[39m)\n\u001b[1;32m     13\u001b[0m \u001b[38;5;28;01mreturn\u001b[39;00m node\n",
      "Input \u001b[0;32mIn [26]\u001b[0m, in \u001b[0;36mto_binary_tree.<locals>.inner\u001b[0;34m(index)\u001b[0m\n\u001b[1;32m      7\u001b[0m \u001b[38;5;28;01mif\u001b[39;00m n \u001b[38;5;241m<\u001b[39m\u001b[38;5;241m=\u001b[39m index \u001b[38;5;129;01mor\u001b[39;00m items[index] \u001b[38;5;129;01mis\u001b[39;00m \u001b[38;5;28;01mNone\u001b[39;00m:\n\u001b[1;32m      8\u001b[0m     \u001b[38;5;28;01mreturn\u001b[39;00m \u001b[38;5;28;01mNone\u001b[39;00m\n\u001b[0;32m---> 10\u001b[0m node \u001b[38;5;241m=\u001b[39m \u001b[43mTreeNode\u001b[49m\u001b[43m(\u001b[49m\u001b[43mitems\u001b[49m\u001b[43m[\u001b[49m\u001b[43mfloor\u001b[49m\u001b[43m(\u001b[49m\u001b[43mn\u001b[49m\u001b[38;5;241;43m/\u001b[39;49m\u001b[38;5;241;43m2\u001b[39;49m\u001b[43m)\u001b[49m\u001b[43m]\u001b[49m\u001b[43m)\u001b[49m\n\u001b[1;32m     11\u001b[0m node\u001b[38;5;241m.\u001b[39mleft \u001b[38;5;241m=\u001b[39m inner(index)\n\u001b[1;32m     12\u001b[0m node\u001b[38;5;241m.\u001b[39mright \u001b[38;5;241m=\u001b[39m inner(n\u001b[38;5;241m-\u001b[39m\u001b[38;5;241m1\u001b[39m)\n",
      "\u001b[0;31mRecursionError\u001b[0m: maximum recursion depth exceeded"
     ]
    }
   ],
   "source": [
    "n = to_binary_tree(nums)"
   ]
  },
  {
   "cell_type": "code",
   "execution_count": 25,
   "id": "3459f1a5-02dc-48f9-96e0-3ffa32d9a39a",
   "metadata": {},
   "outputs": [
    {
     "ename": "AttributeError",
     "evalue": "'NoneType' object has no attribute 'val'",
     "output_type": "error",
     "traceback": [
      "\u001b[0;31m---------------------------------------------------------------------------\u001b[0m",
      "\u001b[0;31mAttributeError\u001b[0m                            Traceback (most recent call last)",
      "Input \u001b[0;32mIn [25]\u001b[0m, in \u001b[0;36m<cell line: 1>\u001b[0;34m()\u001b[0m\n\u001b[0;32m----> 1\u001b[0m \u001b[43mn\u001b[49m\u001b[38;5;241;43m.\u001b[39;49m\u001b[43mright\u001b[49m\u001b[38;5;241;43m.\u001b[39;49m\u001b[43mleft\u001b[49m\u001b[38;5;241;43m.\u001b[39;49m\u001b[43mval\u001b[49m\n",
      "\u001b[0;31mAttributeError\u001b[0m: 'NoneType' object has no attribute 'val'"
     ]
    }
   ],
   "source": [
    "n.right.left.val"
   ]
  },
  {
   "cell_type": "code",
   "execution_count": 130,
   "id": "313563d5-fb9a-4ac6-9912-aeb85a87ad64",
   "metadata": {},
   "outputs": [
    {
     "data": {
      "text/plain": [
       "True"
      ]
     },
     "execution_count": 130,
     "metadata": {},
     "output_type": "execute_result"
    }
   ],
   "source": [
    "p.val == q.val"
   ]
  },
  {
   "cell_type": "code",
   "execution_count": 131,
   "id": "7996f35f-8681-41f9-accb-202aba253aff",
   "metadata": {},
   "outputs": [],
   "source": [
    "left_p = p\n",
    "right_p = p.right\n",
    "left_q = q\n",
    "right_q = q.right\n",
    "\n",
    "if p.val != q.val:\n",
    "    print('false')\n",
    "else:\n",
    "    stack_p, stack_q = [], [] \n",
    "    stack_p.append(left_p.val)\n",
    "    stack_q.append(left_q.val)\n",
    "    \n",
    "    if left_p.left is None:\n",
    "        stack_p.append(None)\n",
    "    else:\n",
    "        while left_p != None:\n",
    "            stack_p.append(left_p.val)\n",
    "            left_p = left_p.left\n",
    "\n",
    "    while right_p != None:\n",
    "        stack_p.append(right_p.val)\n",
    "        right_p = right_p.right\n",
    "\n",
    "    if left_q.left is None:\n",
    "        stack_q.append(None)\n",
    "    else:\n",
    "        while left_q != None:\n",
    "            stack_q.append(left_q.val)\n",
    "            left_q = left_q.left\n",
    "\n",
    "    while right_q != None:\n",
    "        stack_q.append(right_q.val)\n",
    "        right_q = right_q.right"
   ]
  },
  {
   "cell_type": "code",
   "execution_count": 132,
   "id": "4cb881ff-d1d1-4868-b12b-dcd3aca4ca1f",
   "metadata": {},
   "outputs": [
    {
     "data": {
      "text/plain": [
       "[1, 1, 2, 3]"
      ]
     },
     "execution_count": 132,
     "metadata": {},
     "output_type": "execute_result"
    }
   ],
   "source": [
    "stack_p"
   ]
  },
  {
   "cell_type": "code",
   "execution_count": 133,
   "id": "fd627a18-58dc-4df0-bb02-9762d1f83533",
   "metadata": {},
   "outputs": [
    {
     "data": {
      "text/plain": [
       "[1, 1, 2, 3]"
      ]
     },
     "execution_count": 133,
     "metadata": {},
     "output_type": "execute_result"
    }
   ],
   "source": [
    "stack_q"
   ]
  },
  {
   "cell_type": "code",
   "execution_count": 134,
   "id": "6fc83022-28b9-4cfe-92dd-60a624dc8ce0",
   "metadata": {},
   "outputs": [
    {
     "data": {
      "text/plain": [
       "True"
      ]
     },
     "execution_count": 134,
     "metadata": {},
     "output_type": "execute_result"
    }
   ],
   "source": [
    "stack_p == stack_q"
   ]
  },
  {
   "cell_type": "markdown",
   "id": "31470c04-8cd2-4951-a5f9-fdbc10075693",
   "metadata": {},
   "source": [
    "# Solution from ChatGPT"
   ]
  },
  {
   "cell_type": "code",
   "execution_count": 143,
   "id": "1e1c9f43-9135-4716-9b26-4109105c4bf7",
   "metadata": {},
   "outputs": [
    {
     "ename": "SyntaxError",
     "evalue": "'return' outside function (2608775339.py, line 1)",
     "output_type": "error",
     "traceback": [
      "\u001b[0;36m  Input \u001b[0;32mIn [143]\u001b[0;36m\u001b[0m\n\u001b[0;31m    if not p and not q: return True\u001b[0m\n\u001b[0m                        ^\u001b[0m\n\u001b[0;31mSyntaxError\u001b[0m\u001b[0;31m:\u001b[0m 'return' outside function\n"
     ]
    }
   ],
   "source": [
    "if not p and not q: return True\n",
    "if not p or not q: return False\n",
    "if p.val != q.val: return False\n",
    "        \n",
    "return (self.isSameTree(p.left, q.left) and self.isSameTree(p.right, q.right))"
   ]
  },
  {
   "cell_type": "code",
   "execution_count": null,
   "id": "6c52811e-497e-49e5-a5ee-f0098cd129bb",
   "metadata": {},
   "outputs": [],
   "source": []
  }
 ],
 "metadata": {
  "kernelspec": {
   "display_name": "Python 3 (ipykernel)",
   "language": "python",
   "name": "python3"
  },
  "language_info": {
   "codemirror_mode": {
    "name": "ipython",
    "version": 3
   },
   "file_extension": ".py",
   "mimetype": "text/x-python",
   "name": "python",
   "nbconvert_exporter": "python",
   "pygments_lexer": "ipython3",
   "version": "3.8.8"
  }
 },
 "nbformat": 4,
 "nbformat_minor": 5
}
