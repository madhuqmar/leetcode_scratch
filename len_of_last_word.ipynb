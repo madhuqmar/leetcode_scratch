{
 "cells": [
  {
   "cell_type": "code",
   "execution_count": 15,
   "id": "b12d54b8-ab1f-408b-b236-8c878e79d916",
   "metadata": {},
   "outputs": [],
   "source": [
    "s = \"luffy is still joyboy\""
   ]
  },
  {
   "cell_type": "code",
   "execution_count": 16,
   "id": "0e1c2e9a-0dc1-40fd-9ff3-fe8d06b7aca1",
   "metadata": {},
   "outputs": [],
   "source": [
    "sl = s.split(' ')"
   ]
  },
  {
   "cell_type": "code",
   "execution_count": 17,
   "id": "4dab76bd-6a56-4436-ab3d-159370de2d05",
   "metadata": {},
   "outputs": [
    {
     "data": {
      "text/plain": [
       "['luffy', 'is', 'still', 'joyboy']"
      ]
     },
     "execution_count": 17,
     "metadata": {},
     "output_type": "execute_result"
    }
   ],
   "source": [
    "sl"
   ]
  },
  {
   "cell_type": "code",
   "execution_count": 18,
   "id": "762942a9-a5d8-48b6-b05d-bb1ee6ea6d16",
   "metadata": {},
   "outputs": [],
   "source": [
    "non_empty_sl = [x for x in sl if x]"
   ]
  },
  {
   "cell_type": "code",
   "execution_count": 19,
   "id": "b88f68c1-a63c-45bc-980b-1fc6595a420d",
   "metadata": {},
   "outputs": [
    {
     "data": {
      "text/plain": [
       "['luffy', 'is', 'still', 'joyboy']"
      ]
     },
     "execution_count": 19,
     "metadata": {},
     "output_type": "execute_result"
    }
   ],
   "source": [
    "non_empty_sl"
   ]
  },
  {
   "cell_type": "code",
   "execution_count": 20,
   "id": "65b101e6-df27-4966-9851-5f1a2245c66b",
   "metadata": {},
   "outputs": [
    {
     "data": {
      "text/plain": [
       "6"
      ]
     },
     "execution_count": 20,
     "metadata": {},
     "output_type": "execute_result"
    }
   ],
   "source": [
    "lv.po"
   ]
  },
  {
   "cell_type": "code",
   "execution_count": null,
   "id": "5c3e77fa-3f5d-46ca-9fbe-55ef11e42403",
   "metadata": {},
   "outputs": [],
   "source": []
  }
 ],
 "metadata": {
  "kernelspec": {
   "display_name": "Python 3 (ipykernel)",
   "language": "python",
   "name": "python3"
  },
  "language_info": {
   "codemirror_mode": {
    "name": "ipython",
    "version": 3
   },
   "file_extension": ".py",
   "mimetype": "text/x-python",
   "name": "python",
   "nbconvert_exporter": "python",
   "pygments_lexer": "ipython3",
   "version": "3.8.8"
  }
 },
 "nbformat": 4,
 "nbformat_minor": 5
}
