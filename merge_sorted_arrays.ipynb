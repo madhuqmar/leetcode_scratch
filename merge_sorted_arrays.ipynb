{
 "cells": [
  {
   "cell_type": "code",
   "execution_count": 512,
   "id": "c44ec994-6996-466a-980f-6ea39afe7927",
   "metadata": {},
   "outputs": [],
   "source": [
    "nums1 = [-1,0,0,0,3,0,0,0,0,0,0]\n",
    "m = 5\n",
    "nums2 = [-1,-1,0,0,1,2]\n",
    "n = 6"
   ]
  },
  {
   "cell_type": "code",
   "execution_count": 513,
   "id": "76c50caa-ea86-4e4c-b583-1c244319259a",
   "metadata": {},
   "outputs": [],
   "source": [
    "k = m+n\n",
    "N = k-m"
   ]
  },
  {
   "cell_type": "code",
   "execution_count": 514,
   "id": "a86892e5-bb04-47c3-b32c-57d016573036",
   "metadata": {},
   "outputs": [],
   "source": [
    "#import numpy as np\n",
    "#nums1 = list(np.pad(nums1, (0, N), 'constant'))"
   ]
  },
  {
   "cell_type": "code",
   "execution_count": 515,
   "id": "389fea56-a247-4b79-9544-f6a963b88efe",
   "metadata": {},
   "outputs": [
    {
     "data": {
      "text/plain": [
       "[-1, 0, 0, 0, 3, 0, 0, 0, 0, 0, 0]"
      ]
     },
     "execution_count": 515,
     "metadata": {},
     "output_type": "execute_result"
    }
   ],
   "source": [
    "nums1"
   ]
  },
  {
   "cell_type": "code",
   "execution_count": 516,
   "id": "801c51ea-8cf5-4f8c-8a30-7131c3b4527f",
   "metadata": {},
   "outputs": [],
   "source": [
    "i = 0\n",
    "j = 0\n",
    "max_k = k-1\n",
    "\n",
    "while i <= max_k and j <= n-1:\n",
    "    if nums1[i] >= nums2[j]:\n",
    "        nums1.insert(i, nums2[j])\n",
    "        j += 1\n",
    "        i += 1\n",
    "    else:\n",
    "        if i >= m:\n",
    "            if nums1[i] == 0:\n",
    "                nums1[i] = nums2[j]\n",
    "                j += 1\n",
    "                i += 1\n",
    "            else:\n",
    "                i += 1\n",
    "        else:\n",
    "            i += 1"
   ]
  },
  {
   "cell_type": "code",
   "execution_count": 517,
   "id": "4597d7fd-80e6-44a3-9719-cb4019c8220d",
   "metadata": {},
   "outputs": [
    {
     "data": {
      "text/plain": [
       "[-1, -1, -1, 0, 0, 1, 2, 0, 3, 0, 0, 0, 0, 0, 0]"
      ]
     },
     "execution_count": 517,
     "metadata": {},
     "output_type": "execute_result"
    }
   ],
   "source": [
    "nums1"
   ]
  },
  {
   "cell_type": "code",
   "execution_count": 518,
   "id": "5956b75c-50db-4110-a433-a8471c7d077f",
   "metadata": {},
   "outputs": [],
   "source": [
    "if len(nums1) > k:\n",
    "    for to_del in range(len(nums1)-1, k-1, -1):\n",
    "        del nums1[to_del]"
   ]
  },
  {
   "cell_type": "code",
   "execution_count": 519,
   "id": "b6f03099-89f4-4b83-9b29-6a334023898b",
   "metadata": {},
   "outputs": [
    {
     "data": {
      "text/plain": [
       "[-1, -1, -1, 0, 0, 1, 2, 0, 3, 0, 0]"
      ]
     },
     "execution_count": 519,
     "metadata": {},
     "output_type": "execute_result"
    }
   ],
   "source": [
    "nums1"
   ]
  },
  {
   "cell_type": "code",
   "execution_count": null,
   "id": "5062200e-73a5-41cb-b255-f43f441bb3e1",
   "metadata": {},
   "outputs": [],
   "source": []
  }
 ],
 "metadata": {
  "kernelspec": {
   "display_name": "Python 3 (ipykernel)",
   "language": "python",
   "name": "python3"
  },
  "language_info": {
   "codemirror_mode": {
    "name": "ipython",
    "version": 3
   },
   "file_extension": ".py",
   "mimetype": "text/x-python",
   "name": "python",
   "nbconvert_exporter": "python",
   "pygments_lexer": "ipython3",
   "version": "3.8.8"
  }
 },
 "nbformat": 4,
 "nbformat_minor": 5
}
